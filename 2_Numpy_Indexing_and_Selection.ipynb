{
  "nbformat": 4,
  "nbformat_minor": 0,
  "metadata": {
    "kernelspec": {
      "display_name": "Python 3",
      "language": "python",
      "name": "python3"
    },
    "language_info": {
      "codemirror_mode": {
        "name": "ipython",
        "version": 3
      },
      "file_extension": ".py",
      "mimetype": "text/x-python",
      "name": "python",
      "nbconvert_exporter": "python",
      "pygments_lexer": "ipython3",
      "version": "3.7.4"
    },
    "colab": {
      "provenance": [],
      "collapsed_sections": [
        "1YaimTY23XeN"
      ],
      "include_colab_link": true
    }
  },
  "cells": [
    {
      "cell_type": "markdown",
      "metadata": {
        "id": "view-in-github",
        "colab_type": "text"
      },
      "source": [
        "<a href=\"https://colab.research.google.com/github/skflwright/learning_rep/blob/main/2_Numpy_Indexing_and_Selection.ipynb\" target=\"_parent\"><img src=\"https://colab.research.google.com/assets/colab-badge.svg\" alt=\"Open In Colab\"/></a>"
      ]
    },
    {
      "cell_type": "markdown",
      "metadata": {
        "id": "nYDPWb3W3XeC"
      },
      "source": [
        "# NumPy Indexing and Selection"
      ]
    },
    {
      "cell_type": "code",
      "metadata": {
        "id": "_qQJq_xe3XeD"
      },
      "source": [
        "import numpy as np"
      ],
      "execution_count": null,
      "outputs": []
    },
    {
      "cell_type": "code",
      "metadata": {
        "id": "ScQY1NzI3XeE"
      },
      "source": [
        "#Creating sample array\n",
        "arr = np.arange(0,15)"
      ],
      "execution_count": null,
      "outputs": []
    },
    {
      "cell_type": "code",
      "metadata": {
        "id": "-2B-izyp3XeE",
        "outputId": "0b7706b6-edbd-4139-a7df-d4818046fcb4",
        "colab": {
          "base_uri": "https://localhost:8080/"
        }
      },
      "source": [
        "#Show\n",
        "arr"
      ],
      "execution_count": null,
      "outputs": [
        {
          "output_type": "execute_result",
          "data": {
            "text/plain": [
              "array([ 0,  1,  2,  3,  4,  5,  6,  7,  8,  9, 10, 11, 12, 13, 14])"
            ]
          },
          "metadata": {},
          "execution_count": 3
        }
      ]
    },
    {
      "cell_type": "markdown",
      "metadata": {
        "id": "NbLnb2hh3XeF"
      },
      "source": [
        "## Bracket Indexing and Selection\n",
        "The simplest way to pick one or some elements of an array looks very similar to python lists:"
      ]
    },
    {
      "cell_type": "code",
      "metadata": {
        "id": "bogtNwND3XeG",
        "outputId": "530d3cb1-fbeb-45eb-94d2-045d5bb31592",
        "colab": {
          "base_uri": "https://localhost:8080/"
        }
      },
      "source": [
        "#Get a value at an index\n",
        "arr[8]"
      ],
      "execution_count": null,
      "outputs": [
        {
          "output_type": "execute_result",
          "data": {
            "text/plain": [
              "8"
            ]
          },
          "metadata": {},
          "execution_count": 4
        }
      ]
    },
    {
      "cell_type": "code",
      "metadata": {
        "id": "ZOL7j9Vp3XeH",
        "outputId": "9db67b3d-368a-4c71-81a0-25934b704cd4",
        "colab": {
          "base_uri": "https://localhost:8080/"
        }
      },
      "source": [
        "#Get values in a range\n",
        "arr[1:5]"
      ],
      "execution_count": null,
      "outputs": [
        {
          "output_type": "execute_result",
          "data": {
            "text/plain": [
              "array([1, 2, 3, 4])"
            ]
          },
          "metadata": {},
          "execution_count": 5
        }
      ]
    },
    {
      "cell_type": "code",
      "metadata": {
        "id": "fUpJd_IB3XeH",
        "outputId": "297bffe0-ca94-4ca0-a373-10d71c3b3067",
        "colab": {
          "base_uri": "https://localhost:8080/"
        }
      },
      "source": [
        "#Get values in a range\n",
        "arr[0:5]"
      ],
      "execution_count": null,
      "outputs": [
        {
          "output_type": "execute_result",
          "data": {
            "text/plain": [
              "array([0, 1, 2, 3, 4])"
            ]
          },
          "metadata": {},
          "execution_count": 6
        }
      ]
    },
    {
      "cell_type": "markdown",
      "metadata": {
        "id": "g6B7D0iG3XeI"
      },
      "source": [
        "## Broadcasting\n",
        "\n",
        "Numpy arrays differ from a normal Python list because of their ability to broadcast:"
      ]
    },
    {
      "cell_type": "code",
      "metadata": {
        "id": "vEaZoskA3XeI",
        "outputId": "a86c5502-5ca0-43c2-d33f-51efb677edc6",
        "colab": {
          "base_uri": "https://localhost:8080/"
        }
      },
      "source": [
        "#Setting a value with index range (Broadcasting)\n",
        "arr[0:5]=100\n",
        "\n",
        "#Show\n",
        "arr"
      ],
      "execution_count": null,
      "outputs": [
        {
          "output_type": "execute_result",
          "data": {
            "text/plain": [
              "array([100, 100, 100, 100, 100,   5,   6,   7,   8,   9,  10,  11,  12,\n",
              "        13,  14])"
            ]
          },
          "metadata": {},
          "execution_count": 7
        }
      ]
    },
    {
      "cell_type": "code",
      "metadata": {
        "id": "jSS_nteh3XeJ",
        "outputId": "8fa03dc4-07ae-4510-c917-7f4ecd7a0035",
        "colab": {
          "base_uri": "https://localhost:8080/"
        }
      },
      "source": [
        "# Reset array, we'll see why I had to reset in  a moment\n",
        "arr = np.arange(0,20)\n",
        "\n",
        "#Show\n",
        "arr"
      ],
      "execution_count": null,
      "outputs": [
        {
          "output_type": "execute_result",
          "data": {
            "text/plain": [
              "array([ 0,  1,  2,  3,  4,  5,  6,  7,  8,  9, 10, 11, 12, 13, 14, 15, 16,\n",
              "       17, 18, 19])"
            ]
          },
          "metadata": {},
          "execution_count": 8
        }
      ]
    },
    {
      "cell_type": "code",
      "metadata": {
        "id": "q55RFcEL3XeJ",
        "outputId": "1b2676e5-9b07-401d-8da3-a43e6e78406c",
        "colab": {
          "base_uri": "https://localhost:8080/"
        }
      },
      "source": [
        "#Important notes on Slices\n",
        "slice_of_arr = arr[0:8]\n",
        "\n",
        "#Show slice\n",
        "slice_of_arr"
      ],
      "execution_count": null,
      "outputs": [
        {
          "output_type": "execute_result",
          "data": {
            "text/plain": [
              "array([0, 1, 2, 3, 4, 5, 6, 7])"
            ]
          },
          "metadata": {},
          "execution_count": 9
        }
      ]
    },
    {
      "cell_type": "code",
      "metadata": {
        "id": "qJxz043g3XeK",
        "outputId": "6c771658-7a97-4311-ad10-53bcb1d9c14b",
        "colab": {
          "base_uri": "https://localhost:8080/"
        }
      },
      "source": [
        "#Change Slice\n",
        "slice_of_arr[:]=99\n",
        "\n",
        "#Show Slice again\n",
        "slice_of_arr"
      ],
      "execution_count": null,
      "outputs": [
        {
          "output_type": "execute_result",
          "data": {
            "text/plain": [
              "array([99, 99, 99, 99, 99, 99, 99, 99])"
            ]
          },
          "metadata": {},
          "execution_count": 10
        }
      ]
    },
    {
      "cell_type": "markdown",
      "metadata": {
        "id": "mxHSRRhv3XeK"
      },
      "source": [
        "Now note the changes also occur in our original array!"
      ]
    },
    {
      "cell_type": "code",
      "metadata": {
        "id": "TSzwxz8s3XeK",
        "outputId": "f5dbe1db-8f05-40ab-c395-7e89dd494c0d",
        "colab": {
          "base_uri": "https://localhost:8080/"
        }
      },
      "source": [
        "arr"
      ],
      "execution_count": null,
      "outputs": [
        {
          "output_type": "execute_result",
          "data": {
            "text/plain": [
              "array([99, 99, 99, 99, 99, 99, 99, 99,  8,  9, 10, 11, 12, 13, 14, 15, 16,\n",
              "       17, 18, 19])"
            ]
          },
          "metadata": {},
          "execution_count": 11
        }
      ]
    },
    {
      "cell_type": "markdown",
      "metadata": {
        "id": "HfYu0Axl3XeL"
      },
      "source": [
        "Data is not copied, it's a view of the original array! This avoids memory problems!"
      ]
    },
    {
      "cell_type": "code",
      "metadata": {
        "id": "2azXrJKp3XeL",
        "outputId": "6aa650f9-db8f-4286-f54e-04ea4e91129b",
        "colab": {
          "base_uri": "https://localhost:8080/"
        }
      },
      "source": [
        "#To get a copy, need to be explicit\n",
        "arr_copy = arr.copy()\n",
        "\n",
        "arr_copy"
      ],
      "execution_count": null,
      "outputs": [
        {
          "output_type": "execute_result",
          "data": {
            "text/plain": [
              "array([99, 99, 99, 99, 99, 99, 99, 99,  8,  9, 10, 11, 12, 13, 14, 15, 16,\n",
              "       17, 18, 19])"
            ]
          },
          "metadata": {},
          "execution_count": 12
        }
      ]
    },
    {
      "cell_type": "markdown",
      "metadata": {
        "id": "QF5C-ync3XeL"
      },
      "source": [
        "## Indexing a 2D array (matrices)\n",
        "\n",
        "The general format is **arr_2d[row][col]** or **arr_2d[row,col]**. I recommend usually using the comma notation for clarity."
      ]
    },
    {
      "cell_type": "code",
      "metadata": {
        "id": "0taQmK-33XeL",
        "outputId": "e5df11e3-190e-48c6-90f8-cdbf35b906a9",
        "colab": {
          "base_uri": "https://localhost:8080/"
        }
      },
      "source": [
        "arr_2d = np.array(([5,10,15],[20,25,30],[35,40,45]))\n",
        "\n",
        "#Show\n",
        "arr_2d"
      ],
      "execution_count": null,
      "outputs": [
        {
          "output_type": "execute_result",
          "data": {
            "text/plain": [
              "array([[ 5, 10, 15],\n",
              "       [20, 25, 30],\n",
              "       [35, 40, 45]])"
            ]
          },
          "metadata": {},
          "execution_count": 13
        }
      ]
    },
    {
      "cell_type": "code",
      "metadata": {
        "id": "D1cwPK7I3XeM",
        "outputId": "5f13feb2-6322-4831-c2d0-495c6a4bcbe6",
        "colab": {
          "base_uri": "https://localhost:8080/"
        }
      },
      "source": [
        "#Indexing row\n",
        "arr_2d[1]\n"
      ],
      "execution_count": null,
      "outputs": [
        {
          "output_type": "execute_result",
          "data": {
            "text/plain": [
              "array([20, 25, 30])"
            ]
          },
          "metadata": {},
          "execution_count": 14
        }
      ]
    },
    {
      "cell_type": "code",
      "metadata": {
        "id": "brA982e13XeM",
        "outputId": "37ee706d-7164-4fd1-9e98-94fd2b92386d",
        "colab": {
          "base_uri": "https://localhost:8080/"
        }
      },
      "source": [
        "# Format is arr_2d[row][col] or arr_2d[row,col]\n",
        "\n",
        "# Getting individual element value\n",
        "arr_2d[1][0]"
      ],
      "execution_count": null,
      "outputs": [
        {
          "output_type": "execute_result",
          "data": {
            "text/plain": [
              "20"
            ]
          },
          "metadata": {},
          "execution_count": 15
        }
      ]
    },
    {
      "cell_type": "code",
      "metadata": {
        "id": "GRP_rFRW3XeM",
        "outputId": "670b5d7f-c370-48ab-e39d-4847d0a84deb",
        "colab": {
          "base_uri": "https://localhost:8080/"
        }
      },
      "source": [
        "# Getting individual element value\n",
        "arr_2d[1,0]"
      ],
      "execution_count": null,
      "outputs": [
        {
          "output_type": "execute_result",
          "data": {
            "text/plain": [
              "20"
            ]
          },
          "metadata": {},
          "execution_count": 16
        }
      ]
    },
    {
      "cell_type": "code",
      "metadata": {
        "id": "WtqF2Ucf3XeM",
        "outputId": "e0136ae8-43a4-4d8c-daee-596ae141532b",
        "colab": {
          "base_uri": "https://localhost:8080/"
        }
      },
      "source": [
        "# 2D array slicing\n",
        "\n",
        "#Shape (2,2) from top right corner\n",
        "arr_2d[:2,1:]"
      ],
      "execution_count": null,
      "outputs": [
        {
          "output_type": "execute_result",
          "data": {
            "text/plain": [
              "array([[10, 15],\n",
              "       [25, 30]])"
            ]
          },
          "metadata": {},
          "execution_count": 17
        }
      ]
    },
    {
      "cell_type": "code",
      "metadata": {
        "id": "OgX2-lHt3XeN",
        "outputId": "58ae80bc-6389-4a67-fb76-200983258ba6",
        "colab": {
          "base_uri": "https://localhost:8080/"
        }
      },
      "source": [
        "#Shape bottom row\n",
        "arr_2d[2]"
      ],
      "execution_count": null,
      "outputs": [
        {
          "output_type": "execute_result",
          "data": {
            "text/plain": [
              "array([35, 40, 45])"
            ]
          },
          "metadata": {},
          "execution_count": 18
        }
      ]
    },
    {
      "cell_type": "code",
      "metadata": {
        "id": "VzXNGcwA3XeN",
        "outputId": "3d5fda8c-a067-46db-f692-4d85a9beb5f3",
        "colab": {
          "base_uri": "https://localhost:8080/"
        }
      },
      "source": [
        "#Shape bottom row\n",
        "arr_2d[2,:]"
      ],
      "execution_count": null,
      "outputs": [
        {
          "output_type": "execute_result",
          "data": {
            "text/plain": [
              "array([35, 40, 45])"
            ]
          },
          "metadata": {},
          "execution_count": 19
        }
      ]
    },
    {
      "cell_type": "markdown",
      "metadata": {
        "id": "1YaimTY23XeN"
      },
      "source": [
        "### Fancy Indexing\n",
        "\n",
        "Fancy indexing allows you to select entire rows or columns out of order,to show this, let's quickly build out a numpy array:"
      ]
    },
    {
      "cell_type": "code",
      "metadata": {
        "id": "GNzu-U9o3XeN"
      },
      "source": [
        "#Set up matrix\n",
        "arr2d = np.zeros((10,10))"
      ],
      "execution_count": null,
      "outputs": []
    },
    {
      "cell_type": "code",
      "metadata": {
        "id": "mqi5hJgm3XeN"
      },
      "source": [
        "#Length of array\n",
        "arr_length = arr2d.shape[1]"
      ],
      "execution_count": null,
      "outputs": []
    },
    {
      "cell_type": "code",
      "metadata": {
        "id": "8OBM0YBU3XeN",
        "outputId": "f90e435f-8014-4bd3-8d70-9cfc7eedf5a7",
        "colab": {
          "base_uri": "https://localhost:8080/"
        }
      },
      "source": [
        "#Set up array\n",
        "\n",
        "for i in range(arr_length):\n",
        "    arr2d[i] = i\n",
        "\n",
        "arr2d"
      ],
      "execution_count": null,
      "outputs": [
        {
          "output_type": "execute_result",
          "data": {
            "text/plain": [
              "array([[0., 0., 0., 0., 0., 0., 0., 0., 0., 0.],\n",
              "       [1., 1., 1., 1., 1., 1., 1., 1., 1., 1.],\n",
              "       [2., 2., 2., 2., 2., 2., 2., 2., 2., 2.],\n",
              "       [3., 3., 3., 3., 3., 3., 3., 3., 3., 3.],\n",
              "       [4., 4., 4., 4., 4., 4., 4., 4., 4., 4.],\n",
              "       [5., 5., 5., 5., 5., 5., 5., 5., 5., 5.],\n",
              "       [6., 6., 6., 6., 6., 6., 6., 6., 6., 6.],\n",
              "       [7., 7., 7., 7., 7., 7., 7., 7., 7., 7.],\n",
              "       [8., 8., 8., 8., 8., 8., 8., 8., 8., 8.],\n",
              "       [9., 9., 9., 9., 9., 9., 9., 9., 9., 9.]])"
            ]
          },
          "metadata": {},
          "execution_count": 22
        }
      ]
    },
    {
      "cell_type": "markdown",
      "metadata": {
        "id": "ORGHnSDH3XeO"
      },
      "source": [
        "Fancy indexing allows the following"
      ]
    },
    {
      "cell_type": "code",
      "metadata": {
        "id": "aYbKZ4O73XeO",
        "outputId": "ecc806ca-2860-4458-d15e-1ffa0ab1e5cd",
        "colab": {
          "base_uri": "https://localhost:8080/"
        }
      },
      "source": [
        "arr2d[[2,4,6,8]]"
      ],
      "execution_count": null,
      "outputs": [
        {
          "output_type": "execute_result",
          "data": {
            "text/plain": [
              "array([[2., 2., 2., 2., 2., 2., 2., 2., 2., 2.],\n",
              "       [4., 4., 4., 4., 4., 4., 4., 4., 4., 4.],\n",
              "       [6., 6., 6., 6., 6., 6., 6., 6., 6., 6.],\n",
              "       [8., 8., 8., 8., 8., 8., 8., 8., 8., 8.]])"
            ]
          },
          "metadata": {},
          "execution_count": 23
        }
      ]
    },
    {
      "cell_type": "code",
      "metadata": {
        "id": "MtTvScnP3XeO",
        "outputId": "6295a027-db0e-4dd4-bc93-fbfbfeb70699",
        "colab": {
          "base_uri": "https://localhost:8080/"
        }
      },
      "source": [
        "#Allows in any order\n",
        "arr2d[[6,4,2,7]]"
      ],
      "execution_count": null,
      "outputs": [
        {
          "output_type": "execute_result",
          "data": {
            "text/plain": [
              "array([[6., 6., 6., 6., 6., 6., 6., 6., 6., 6.],\n",
              "       [4., 4., 4., 4., 4., 4., 4., 4., 4., 4.],\n",
              "       [2., 2., 2., 2., 2., 2., 2., 2., 2., 2.],\n",
              "       [7., 7., 7., 7., 7., 7., 7., 7., 7., 7.]])"
            ]
          },
          "metadata": {},
          "execution_count": 24
        }
      ]
    },
    {
      "cell_type": "markdown",
      "metadata": {
        "id": "gQtEvsiI3XeO"
      },
      "source": [
        "## More Indexing Help\n",
        "Indexing a 2d matrix can be a bit confusing at first, especially when you start to add in step size. Try google image searching NumPy indexing to fins useful images, like this one:"
      ]
    },
    {
      "cell_type": "markdown",
      "metadata": {
        "id": "OLYB7V1T3XeO"
      },
      "source": [
        "## Selection\n",
        "\n",
        "Let's briefly go over how to use brackets for selection based off of comparison operators."
      ]
    },
    {
      "cell_type": "code",
      "metadata": {
        "id": "WcrOxILK3XeO",
        "outputId": "9cbf844f-22ef-4bad-e61f-02a2a5c29ed4",
        "colab": {
          "base_uri": "https://localhost:8080/"
        }
      },
      "source": [
        "arr = np.arange(1,11)\n",
        "arr"
      ],
      "execution_count": null,
      "outputs": [
        {
          "output_type": "execute_result",
          "data": {
            "text/plain": [
              "array([ 1,  2,  3,  4,  5,  6,  7,  8,  9, 10])"
            ]
          },
          "metadata": {},
          "execution_count": 25
        }
      ]
    },
    {
      "cell_type": "code",
      "metadata": {
        "id": "ZAjq0BKr3XeO",
        "outputId": "116c4ef5-3d0b-48af-ad22-3d57bc46f607",
        "colab": {
          "base_uri": "https://localhost:8080/"
        }
      },
      "source": [
        "arr > 4"
      ],
      "execution_count": null,
      "outputs": [
        {
          "output_type": "execute_result",
          "data": {
            "text/plain": [
              "array([False, False, False, False,  True,  True,  True,  True,  True,\n",
              "        True])"
            ]
          },
          "metadata": {},
          "execution_count": 26
        }
      ]
    },
    {
      "cell_type": "code",
      "metadata": {
        "collapsed": true,
        "jupyter": {
          "outputs_hidden": true
        },
        "id": "S_h4ozDD3XeP"
      },
      "source": [
        "bool_arr = arr>4"
      ],
      "execution_count": null,
      "outputs": []
    },
    {
      "cell_type": "code",
      "metadata": {
        "id": "4jDeEzd23XeP",
        "outputId": "e8fa1f34-87c5-4a7d-abb7-f8cc4d63eaff",
        "colab": {
          "base_uri": "https://localhost:8080/"
        }
      },
      "source": [
        "bool_arr"
      ],
      "execution_count": null,
      "outputs": [
        {
          "output_type": "execute_result",
          "data": {
            "text/plain": [
              "array([False, False, False, False,  True,  True,  True,  True,  True,\n",
              "        True])"
            ]
          },
          "metadata": {},
          "execution_count": 28
        }
      ]
    },
    {
      "cell_type": "code",
      "metadata": {
        "id": "-O-mFSLe3XeP",
        "outputId": "da2df15c-0ee7-4767-9856-84e81b2439d3",
        "colab": {
          "base_uri": "https://localhost:8080/"
        }
      },
      "source": [
        "arr[bool_arr]"
      ],
      "execution_count": null,
      "outputs": [
        {
          "output_type": "execute_result",
          "data": {
            "text/plain": [
              "array([ 5,  6,  7,  8,  9, 10])"
            ]
          },
          "metadata": {},
          "execution_count": 29
        }
      ]
    },
    {
      "cell_type": "code",
      "metadata": {
        "id": "hSrjmuNV3XeP",
        "outputId": "0345b3ec-47df-4e19-adbe-84511127903a",
        "colab": {
          "base_uri": "https://localhost:8080/"
        }
      },
      "source": [
        "arr[arr>2]"
      ],
      "execution_count": null,
      "outputs": [
        {
          "output_type": "execute_result",
          "data": {
            "text/plain": [
              "array([ 3,  4,  5,  6,  7,  8,  9, 10])"
            ]
          },
          "metadata": {},
          "execution_count": 30
        }
      ]
    },
    {
      "cell_type": "code",
      "metadata": {
        "id": "QpUslqu63XeP",
        "outputId": "5ff9d5e7-943e-436f-b029-01730104e2a7",
        "colab": {
          "base_uri": "https://localhost:8080/"
        }
      },
      "source": [
        "x = 2\n",
        "arr[arr>x]"
      ],
      "execution_count": null,
      "outputs": [
        {
          "output_type": "execute_result",
          "data": {
            "text/plain": [
              "array([ 3,  4,  5,  6,  7,  8,  9, 10])"
            ]
          },
          "metadata": {},
          "execution_count": 31
        }
      ]
    },
    {
      "cell_type": "markdown",
      "metadata": {
        "id": "5dVLruaM3XeP"
      },
      "source": [
        "# Cheers!\n"
      ]
    }
  ]
}