{
  "nbformat": 4,
  "nbformat_minor": 0,
  "metadata": {
    "colab": {
      "provenance": [],
      "machine_shape": "hm",
      "gpuType": "V100",
      "include_colab_link": true
    },
    "kernelspec": {
      "name": "python3",
      "display_name": "Python 3"
    },
    "language_info": {
      "name": "python"
    },
    "accelerator": "GPU"
  },
  "cells": [
    {
      "cell_type": "markdown",
      "metadata": {
        "id": "view-in-github",
        "colab_type": "text"
      },
      "source": [
        "<a href=\"https://colab.research.google.com/github/skflwright/learning_rep/blob/main/Intro_to_Deep_Learning.ipynb\" target=\"_parent\"><img src=\"https://colab.research.google.com/assets/colab-badge.svg\" alt=\"Open In Colab\"/></a>"
      ]
    },
    {
      "cell_type": "markdown",
      "source": [
        "# Using TensorFlow"
      ],
      "metadata": {
        "id": "TbAfXCpicGmR"
      }
    },
    {
      "cell_type": "code",
      "source": [
        "import numpy as np\n",
        "import tensorflow as tf\n",
        "import matplotlib.pyplot as plt"
      ],
      "metadata": {
        "id": "9rO2K6WtctpA"
      },
      "execution_count": null,
      "outputs": []
    },
    {
      "cell_type": "code",
      "source": [
        "np.random.seed(101)"
      ],
      "metadata": {
        "id": "S0244o78ctmH"
      },
      "execution_count": null,
      "outputs": []
    },
    {
      "cell_type": "code",
      "source": [
        "# Learning rate\n",
        "learning_rate = 0.01\n",
        "\n",
        "# Number of loops for training through all your data to update the parameters\n",
        "training_epochs = 100\n",
        "\n",
        "# the training dataset\n",
        "x_train = np.linspace(0, 10, 100)\n",
        "y_train = x_train + np.random.normal(0,1,100)\n",
        "\n",
        "# plot of data\n",
        "plt.scatter(x_train, y_train)"
      ],
      "metadata": {
        "colab": {
          "base_uri": "https://localhost:8080/",
          "height": 447
        },
        "id": "go9Fh1Y7ctjs",
        "outputId": "6f04f465-a459-4ad6-dca3-d60f16409679"
      },
      "execution_count": null,
      "outputs": [
        {
          "output_type": "execute_result",
          "data": {
            "text/plain": [
              "<matplotlib.collections.PathCollection at 0x7cdbf2788d90>"
            ]
          },
          "metadata": {},
          "execution_count": 10
        },
        {
          "output_type": "display_data",
          "data": {
            "text/plain": [
              "<Figure size 640x480 with 1 Axes>"
            ],
            "image/png": "[encoded data removed]"
          },
          "metadata": {}
        }
      ]
    },
    {
      "cell_type": "code",
      "source": [
        "# declare weights\n",
        "weight = tf.Variable(0.)\n",
        "bias = tf.Variable(0.)"
      ],
      "metadata": {
        "id": "9uq5p1mhctXS"
      },
      "execution_count": null,
      "outputs": []
    },
    {
      "cell_type": "code",
      "source": [
        "# Define linear regression expression y\n",
        "def linreg(x):\n",
        "    y = weight*x + bias\n",
        "    return y"
      ],
      "metadata": {
        "id": "BDmO0sUsctT2"
      },
      "execution_count": null,
      "outputs": []
    },
    {
      "cell_type": "code",
      "source": [
        "# Define loss function (MSE)\n",
        "def squared_error(y_pred, y_true):\n",
        "    return tf.reduce_mean(tf.square(y_pred - y_true))"
      ],
      "metadata": {
        "id": "034ZZ1MIctQs"
      },
      "execution_count": null,
      "outputs": []
    },
    {
      "cell_type": "code",
      "source": [
        "# train model\n",
        "for epoch in range(training_epochs):\n",
        "    # Compute loss within Gradient Tape context\n",
        "    with tf.GradientTape() as tape:\n",
        "        y_predicted = linreg(x_train)\n",
        "        loss = squared_error(y_predicted, y_train)\n",
        "\n",
        "        # Get gradients\n",
        "        gradients = tape.gradient(loss, [weight, bias])\n",
        "\n",
        "        # Adjust weights\n",
        "        weight.assign_sub(gradients[0]*learning_rate)\n",
        "        bias.assign_sub(gradients[1]*learning_rate)\n",
        "\n",
        "    # Print output\n",
        "    print(f\"Epoch count {epoch}: Loss value: {loss.numpy()}\")\n"
      ],
      "metadata": {
        "colab": {
          "base_uri": "https://localhost:8080/"
        },
        "id": "f7jeKsw3gqCD",
        "outputId": "f9e09a8c-b84f-4ab7-e3ae-c8c517f3d4c5"
      },
      "execution_count": null,
      "outputs": [
        {
          "output_type": "stream",
          "name": "stdout",
          "text": [
            "Epoch count 0: Loss value: 34.09203338623047\n",
            "Epoch count 1: Loss value: 4.302308559417725\n",
            "Epoch count 2: Loss value: 1.3476277589797974\n",
            "Epoch count 3: Loss value: 1.0544785261154175\n",
            "Epoch count 4: Loss value: 1.0253040790557861\n",
            "Epoch count 5: Loss value: 1.0223119258880615\n",
            "Epoch count 6: Loss value: 1.021917462348938\n",
            "Epoch count 7: Loss value: 1.0217816829681396\n",
            "Epoch count 8: Loss value: 1.0216724872589111\n",
            "Epoch count 9: Loss value: 1.0215668678283691\n",
            "Epoch count 10: Loss value: 1.0214624404907227\n",
            "Epoch count 11: Loss value: 1.0213592052459717\n",
            "Epoch count 12: Loss value: 1.021256923675537\n",
            "Epoch count 13: Loss value: 1.021155595779419\n",
            "Epoch count 14: Loss value: 1.0210554599761963\n",
            "Epoch count 15: Loss value: 1.0209561586380005\n",
            "Epoch count 16: Loss value: 1.0208579301834106\n",
            "Epoch count 17: Loss value: 1.0207605361938477\n",
            "Epoch count 18: Loss value: 1.0206642150878906\n",
            "Epoch count 19: Loss value: 1.0205687284469604\n",
            "Epoch count 20: Loss value: 1.0204744338989258\n",
            "Epoch count 21: Loss value: 1.020380973815918\n",
            "Epoch count 22: Loss value: 1.020288348197937\n",
            "Epoch count 23: Loss value: 1.0201966762542725\n",
            "Epoch count 24: Loss value: 1.0201058387756348\n",
            "Epoch count 25: Loss value: 1.0200161933898926\n",
            "Epoch count 26: Loss value: 1.0199271440505981\n",
            "Epoch count 27: Loss value: 1.0198390483856201\n",
            "Epoch count 28: Loss value: 1.019751787185669\n",
            "Epoch count 29: Loss value: 1.0196654796600342\n",
            "Epoch count 30: Loss value: 1.0195798873901367\n",
            "Epoch count 31: Loss value: 1.0194952487945557\n",
            "Epoch count 32: Loss value: 1.0194114446640015\n",
            "Epoch count 33: Loss value: 1.0193284749984741\n",
            "Epoch count 34: Loss value: 1.0192464590072632\n",
            "Epoch count 35: Loss value: 1.0191649198532104\n",
            "Epoch count 36: Loss value: 1.0190845727920532\n",
            "Epoch count 37: Loss value: 1.0190047025680542\n",
            "Epoch count 38: Loss value: 1.0189259052276611\n",
            "Epoch count 39: Loss value: 1.0188477039337158\n",
            "Epoch count 40: Loss value: 1.0187703371047974\n",
            "Epoch count 41: Loss value: 1.0186935663223267\n",
            "Epoch count 42: Loss value: 1.018617868423462\n",
            "Epoch count 43: Loss value: 1.018542766571045\n",
            "Epoch count 44: Loss value: 1.0184682607650757\n",
            "Epoch count 45: Loss value: 1.0183947086334229\n",
            "Epoch count 46: Loss value: 1.0183218717575073\n",
            "Epoch count 47: Loss value: 1.0182496309280396\n",
            "Epoch count 48: Loss value: 1.0181779861450195\n",
            "Epoch count 49: Loss value: 1.0181071758270264\n",
            "Epoch count 50: Loss value: 1.0180373191833496\n",
            "Epoch count 51: Loss value: 1.017967939376831\n",
            "Epoch count 52: Loss value: 1.0178992748260498\n",
            "Epoch count 53: Loss value: 1.0178312063217163\n",
            "Epoch count 54: Loss value: 1.0177638530731201\n",
            "Epoch count 55: Loss value: 1.0176973342895508\n",
            "Epoch count 56: Loss value: 1.01763117313385\n",
            "Epoch count 57: Loss value: 1.0175658464431763\n",
            "Epoch count 58: Loss value: 1.0175013542175293\n",
            "Epoch count 59: Loss value: 1.017437219619751\n",
            "Epoch count 60: Loss value: 1.0173736810684204\n",
            "Epoch count 61: Loss value: 1.0173108577728271\n",
            "Epoch count 62: Loss value: 1.0172487497329712\n",
            "Epoch count 63: Loss value: 1.017187237739563\n",
            "Epoch count 64: Loss value: 1.017126202583313\n",
            "Epoch count 65: Loss value: 1.0170657634735107\n",
            "Epoch count 66: Loss value: 1.0170061588287354\n",
            "Epoch count 67: Loss value: 1.0169471502304077\n",
            "Epoch count 68: Loss value: 1.0168883800506592\n",
            "Epoch count 69: Loss value: 1.0168304443359375\n",
            "Epoch count 70: Loss value: 1.016772985458374\n",
            "Epoch count 71: Loss value: 1.0167162418365479\n",
            "Epoch count 72: Loss value: 1.0166598558425903\n",
            "Epoch count 73: Loss value: 1.0166041851043701\n",
            "Epoch count 74: Loss value: 1.016548991203308\n",
            "Epoch count 75: Loss value: 1.0164943933486938\n",
            "Epoch count 76: Loss value: 1.0164402723312378\n",
            "Epoch count 77: Loss value: 1.0163867473602295\n",
            "Epoch count 78: Loss value: 1.0163336992263794\n",
            "Epoch count 79: Loss value: 1.016281247138977\n",
            "Epoch count 80: Loss value: 1.016229271888733\n",
            "Epoch count 81: Loss value: 1.016177773475647\n",
            "Epoch count 82: Loss value: 1.0161268711090088\n",
            "Epoch count 83: Loss value: 1.0160763263702393\n",
            "Epoch count 84: Loss value: 1.0160263776779175\n",
            "Epoch count 85: Loss value: 1.0159770250320435\n",
            "Epoch count 86: Loss value: 1.0159279108047485\n",
            "Epoch count 87: Loss value: 1.0158796310424805\n",
            "Epoch count 88: Loss value: 1.0158315896987915\n",
            "Epoch count 89: Loss value: 1.0157840251922607\n",
            "Epoch count 90: Loss value: 1.0157370567321777\n",
            "Epoch count 91: Loss value: 1.0156903266906738\n",
            "Epoch count 92: Loss value: 1.0156441926956177\n",
            "Epoch count 93: Loss value: 1.0155985355377197\n",
            "Epoch count 94: Loss value: 1.01555335521698\n",
            "Epoch count 95: Loss value: 1.0155086517333984\n",
            "Epoch count 96: Loss value: 1.0154643058776855\n",
            "Epoch count 97: Loss value: 1.0154204368591309\n",
            "Epoch count 98: Loss value: 1.0153769254684448\n",
            "Epoch count 99: Loss value: 1.015333890914917\n"
          ]
        }
      ]
    },
    {
      "cell_type": "code",
      "source": [
        "print(weight.numpy())\n",
        "print(bias.numpy())"
      ],
      "metadata": {
        "colab": {
          "base_uri": "https://localhost:8080/"
        },
        "id": "LBpmbtG1g-3e",
        "outputId": "3d774f9b-9b43-401c-ca60-cf8158b0dd37"
      },
      "execution_count": null,
      "outputs": [
        {
          "output_type": "stream",
          "name": "stdout",
          "text": [
            "0.9842016\n",
            "0.062572256\n"
          ]
        }
      ]
    },
    {
      "cell_type": "code",
      "source": [
        "# Plot the best fit line\n",
        "plt.scatter(x_train, y_train)\n",
        "plt.plot(x_train, linreg(x_train), 'r')\n",
        "plt.show()"
      ],
      "metadata": {
        "colab": {
          "base_uri": "https://localhost:8080/",
          "height": 430
        },
        "id": "6OXGOXUuiRw_",
        "outputId": "3076db6a-39d8-4ebe-f10e-5243f72f98b9"
      },
      "execution_count": null,
      "outputs": [
        {
          "output_type": "display_data",
          "data": {
            "text/plain": [
              "<Figure size 640x480 with 1 Axes>"
            ],
            "image/png": "[encoded data removed]"
          },
          "metadata": {}
        }
      ]
    },
    {
      "cell_type": "markdown",
      "source": [
        "# Using PyTorch"
      ],
      "metadata": {
        "id": "CqLnd_6wiZig"
      }
    },
    {
      "cell_type": "code",
      "source": [
        "import numpy as np\n",
        "import torch\n",
        "from torch.autograd import Variable"
      ],
      "metadata": {
        "id": "cIBI8oR6oV3p"
      },
      "execution_count": null,
      "outputs": []
    },
    {
      "cell_type": "code",
      "source": [
        "# create dummy data for training\n",
        "x_values = [i for i in range(11)]\n",
        "x_train = np.array(x_values, dtype = np.float32)\n",
        "x_train = x_train.reshape(-1, 1)\n",
        "\n",
        "y_values = [2*i + 1 for i in x_values]\n",
        "y_train = np.array(y_values, dtype = np.float32)\n",
        "y_train = y_train.reshape(-1, 1)"
      ],
      "metadata": {
        "id": "wuf1SjPwoV0Z"
      },
      "execution_count": null,
      "outputs": []
    },
    {
      "cell_type": "code",
      "source": [
        "class linearRegression(torch.nn.Module):\n",
        "    def __init__(self, inputSize, outputSize):\n",
        "        super(linearRegression, self).__init__()\n",
        "        self.linear = torch.nn.Linear(inputSize, outputSize)\n",
        "\n",
        "    def forward(self, x):\n",
        "        out = self.linear(x)\n",
        "        return out"
      ],
      "metadata": {
        "id": "UOjf-BjkoVxQ"
      },
      "execution_count": null,
      "outputs": []
    },
    {
      "cell_type": "code",
      "source": [
        "inputDim = 1        # takes variable 'x'\n",
        "outputDim = 1       # takes variable 'y'"
      ],
      "metadata": {
        "id": "3na4Z-HpoVuJ"
      },
      "execution_count": null,
      "outputs": []
    },
    {
      "cell_type": "code",
      "source": [
        "model = linearRegression(inputDim, outputDim)"
      ],
      "metadata": {
        "id": "MusjCNoHoVq7"
      },
      "execution_count": null,
      "outputs": []
    },
    {
      "cell_type": "code",
      "source": [
        "##### For GPU #######\n",
        "if torch.cuda.is_available():\n",
        "    model.cuda()"
      ],
      "metadata": {
        "id": "w_jr_hdQoVn7"
      },
      "execution_count": null,
      "outputs": []
    },
    {
      "cell_type": "code",
      "source": [
        "criterion = torch.nn.MSELoss()\n",
        "optimizer = torch.optim.SGD(model.parameters(), lr=learning_rate)"
      ],
      "metadata": {
        "id": "80x9bd45oVk5"
      },
      "execution_count": null,
      "outputs": []
    },
    {
      "cell_type": "code",
      "source": [
        "for epoch in range(epoch):\n",
        "    # Converting inputs and labels to Variable\n",
        "    if torch.cuda.is_available():\n",
        "        inputs = Variable(torch.from_numpy(x_train).cuda())\n",
        "        labels = Variable(torch.from_numpy(y_train).cuda())\n",
        "    else:\n",
        "        inputs = Variable(torch.from_numpy(x_train))\n",
        "        labels = Variable(torch.from_numpy(y_train))\n",
        "\n",
        "    # Clear gradient buffers because we don't want any gradient from previous epoch to carry forward, dont want to cummulate gradients\n",
        "    optimizer.zero_grad()\n",
        "\n",
        "    # get output from the model, given the inputs\n",
        "    outputs = model(inputs)\n",
        "\n",
        "    # get loss for the predicted output\n",
        "    loss = criterion(outputs, labels)\n",
        "    print(loss)\n",
        "\n",
        "    # get gradients w.r.t to parameters\n",
        "    loss.backward()\n",
        "\n",
        "    # update parameters\n",
        "    optimizer.step()\n",
        "\n",
        "    print('epoch {}, loss {}'.format(epoch, loss.item()))"
      ],
      "metadata": {
        "colab": {
          "base_uri": "https://localhost:8080/"
        },
        "id": "mJfzr7P4p4K5",
        "outputId": "38313916-882d-4ccf-f34f-f27bd96007ff"
      },
      "execution_count": null,
      "outputs": [
        {
          "output_type": "stream",
          "name": "stdout",
          "text": [
            "tensor(103.3136, device='cuda:0', grad_fn=<MseLossBackward0>)\n",
            "epoch 0, loss 103.31361389160156\n",
            "tensor(8.6481, device='cuda:0', grad_fn=<MseLossBackward0>)\n",
            "epoch 1, loss 8.648106575012207\n",
            "tensor(0.9241, device='cuda:0', grad_fn=<MseLossBackward0>)\n",
            "epoch 2, loss 0.9240672588348389\n",
            "tensor(0.2916, device='cuda:0', grad_fn=<MseLossBackward0>)\n",
            "epoch 3, loss 0.29160112142562866\n",
            "tensor(0.2376, device='cuda:0', grad_fn=<MseLossBackward0>)\n",
            "epoch 4, loss 0.23759816586971283\n",
            "tensor(0.2308, device='cuda:0', grad_fn=<MseLossBackward0>)\n",
            "epoch 5, loss 0.23080581426620483\n",
            "tensor(0.2279, device='cuda:0', grad_fn=<MseLossBackward0>)\n",
            "epoch 6, loss 0.2278907299041748\n",
            "tensor(0.2253, device='cuda:0', grad_fn=<MseLossBackward0>)\n",
            "epoch 7, loss 0.22531841695308685\n",
            "tensor(0.2228, device='cuda:0', grad_fn=<MseLossBackward0>)\n",
            "epoch 8, loss 0.22280000150203705\n",
            "tensor(0.2203, device='cuda:0', grad_fn=<MseLossBackward0>)\n",
            "epoch 9, loss 0.22031192481517792\n",
            "tensor(0.2179, device='cuda:0', grad_fn=<MseLossBackward0>)\n",
            "epoch 10, loss 0.21785172820091248\n",
            "tensor(0.2154, device='cuda:0', grad_fn=<MseLossBackward0>)\n",
            "epoch 11, loss 0.21541903913021088\n",
            "tensor(0.2130, device='cuda:0', grad_fn=<MseLossBackward0>)\n",
            "epoch 12, loss 0.21301348507404327\n",
            "tensor(0.2106, device='cuda:0', grad_fn=<MseLossBackward0>)\n",
            "epoch 13, loss 0.21063458919525146\n",
            "tensor(0.2083, device='cuda:0', grad_fn=<MseLossBackward0>)\n",
            "epoch 14, loss 0.20828256011009216\n",
            "tensor(0.2060, device='cuda:0', grad_fn=<MseLossBackward0>)\n",
            "epoch 15, loss 0.20595666766166687\n",
            "tensor(0.2037, device='cuda:0', grad_fn=<MseLossBackward0>)\n",
            "epoch 16, loss 0.203656867146492\n",
            "tensor(0.2014, device='cuda:0', grad_fn=<MseLossBackward0>)\n",
            "epoch 17, loss 0.2013826221227646\n",
            "tensor(0.1991, device='cuda:0', grad_fn=<MseLossBackward0>)\n",
            "epoch 18, loss 0.19913385808467865\n",
            "tensor(0.1969, device='cuda:0', grad_fn=<MseLossBackward0>)\n",
            "epoch 19, loss 0.19691018760204315\n",
            "tensor(0.1947, device='cuda:0', grad_fn=<MseLossBackward0>)\n",
            "epoch 20, loss 0.19471125304698944\n",
            "tensor(0.1925, device='cuda:0', grad_fn=<MseLossBackward0>)\n",
            "epoch 21, loss 0.19253702461719513\n",
            "tensor(0.1904, device='cuda:0', grad_fn=<MseLossBackward0>)\n",
            "epoch 22, loss 0.19038696587085724\n",
            "tensor(0.1883, device='cuda:0', grad_fn=<MseLossBackward0>)\n",
            "epoch 23, loss 0.18826095759868622\n",
            "tensor(0.1862, device='cuda:0', grad_fn=<MseLossBackward0>)\n",
            "epoch 24, loss 0.186158686876297\n",
            "tensor(0.1841, device='cuda:0', grad_fn=<MseLossBackward0>)\n",
            "epoch 25, loss 0.18407988548278809\n",
            "tensor(0.1820, device='cuda:0', grad_fn=<MseLossBackward0>)\n",
            "epoch 26, loss 0.18202422559261322\n",
            "tensor(0.1800, device='cuda:0', grad_fn=<MseLossBackward0>)\n",
            "epoch 27, loss 0.17999160289764404\n",
            "tensor(0.1780, device='cuda:0', grad_fn=<MseLossBackward0>)\n",
            "epoch 28, loss 0.17798170447349548\n",
            "tensor(0.1760, device='cuda:0', grad_fn=<MseLossBackward0>)\n",
            "epoch 29, loss 0.17599420249462128\n",
            "tensor(0.1740, device='cuda:0', grad_fn=<MseLossBackward0>)\n",
            "epoch 30, loss 0.1740289181470871\n",
            "tensor(0.1721, device='cuda:0', grad_fn=<MseLossBackward0>)\n",
            "epoch 31, loss 0.17208550870418549\n",
            "tensor(0.1702, device='cuda:0', grad_fn=<MseLossBackward0>)\n",
            "epoch 32, loss 0.17016392946243286\n",
            "tensor(0.1683, device='cuda:0', grad_fn=<MseLossBackward0>)\n",
            "epoch 33, loss 0.16826364398002625\n",
            "tensor(0.1664, device='cuda:0', grad_fn=<MseLossBackward0>)\n",
            "epoch 34, loss 0.16638466715812683\n",
            "tensor(0.1645, device='cuda:0', grad_fn=<MseLossBackward0>)\n",
            "epoch 35, loss 0.16452671587467194\n",
            "tensor(0.1627, device='cuda:0', grad_fn=<MseLossBackward0>)\n",
            "epoch 36, loss 0.1626894623041153\n",
            "tensor(0.1609, device='cuda:0', grad_fn=<MseLossBackward0>)\n",
            "epoch 37, loss 0.16087272763252258\n",
            "tensor(0.1591, device='cuda:0', grad_fn=<MseLossBackward0>)\n",
            "epoch 38, loss 0.1590762734413147\n",
            "tensor(0.1573, device='cuda:0', grad_fn=<MseLossBackward0>)\n",
            "epoch 39, loss 0.1572999358177185\n",
            "tensor(0.1555, device='cuda:0', grad_fn=<MseLossBackward0>)\n",
            "epoch 40, loss 0.15554335713386536\n",
            "tensor(0.1538, device='cuda:0', grad_fn=<MseLossBackward0>)\n",
            "epoch 41, loss 0.15380649268627167\n",
            "tensor(0.1521, device='cuda:0', grad_fn=<MseLossBackward0>)\n",
            "epoch 42, loss 0.1520889401435852\n",
            "tensor(0.1504, device='cuda:0', grad_fn=<MseLossBackward0>)\n",
            "epoch 43, loss 0.15039050579071045\n",
            "tensor(0.1487, device='cuda:0', grad_fn=<MseLossBackward0>)\n",
            "epoch 44, loss 0.1487112045288086\n",
            "tensor(0.1471, device='cuda:0', grad_fn=<MseLossBackward0>)\n",
            "epoch 45, loss 0.14705051481723785\n",
            "tensor(0.1454, device='cuda:0', grad_fn=<MseLossBackward0>)\n",
            "epoch 46, loss 0.14540846645832062\n",
            "tensor(0.1438, device='cuda:0', grad_fn=<MseLossBackward0>)\n",
            "epoch 47, loss 0.1437847912311554\n",
            "tensor(0.1422, device='cuda:0', grad_fn=<MseLossBackward0>)\n",
            "epoch 48, loss 0.14217902719974518\n",
            "tensor(0.1406, device='cuda:0', grad_fn=<MseLossBackward0>)\n",
            "epoch 49, loss 0.1405913531780243\n",
            "tensor(0.1390, device='cuda:0', grad_fn=<MseLossBackward0>)\n",
            "epoch 50, loss 0.1390213817358017\n",
            "tensor(0.1375, device='cuda:0', grad_fn=<MseLossBackward0>)\n",
            "epoch 51, loss 0.13746900856494904\n",
            "tensor(0.1359, device='cuda:0', grad_fn=<MseLossBackward0>)\n",
            "epoch 52, loss 0.1359339952468872\n",
            "tensor(0.1344, device='cuda:0', grad_fn=<MseLossBackward0>)\n",
            "epoch 53, loss 0.13441593945026398\n",
            "tensor(0.1329, device='cuda:0', grad_fn=<MseLossBackward0>)\n",
            "epoch 54, loss 0.13291500508785248\n",
            "tensor(0.1314, device='cuda:0', grad_fn=<MseLossBackward0>)\n",
            "epoch 55, loss 0.1314307004213333\n",
            "tensor(0.1300, device='cuda:0', grad_fn=<MseLossBackward0>)\n",
            "epoch 56, loss 0.12996307015419006\n",
            "tensor(0.1285, device='cuda:0', grad_fn=<MseLossBackward0>)\n",
            "epoch 57, loss 0.12851181626319885\n",
            "tensor(0.1271, device='cuda:0', grad_fn=<MseLossBackward0>)\n",
            "epoch 58, loss 0.12707677483558655\n",
            "tensor(0.1257, device='cuda:0', grad_fn=<MseLossBackward0>)\n",
            "epoch 59, loss 0.12565764784812927\n",
            "tensor(0.1243, device='cuda:0', grad_fn=<MseLossBackward0>)\n",
            "epoch 60, loss 0.12425441294908524\n",
            "tensor(0.1229, device='cuda:0', grad_fn=<MseLossBackward0>)\n",
            "epoch 61, loss 0.12286704778671265\n",
            "tensor(0.1215, device='cuda:0', grad_fn=<MseLossBackward0>)\n",
            "epoch 62, loss 0.1214948371052742\n",
            "tensor(0.1201, device='cuda:0', grad_fn=<MseLossBackward0>)\n",
            "epoch 63, loss 0.12013819068670273\n",
            "tensor(0.1188, device='cuda:0', grad_fn=<MseLossBackward0>)\n",
            "epoch 64, loss 0.11879655718803406\n",
            "tensor(0.1175, device='cuda:0', grad_fn=<MseLossBackward0>)\n",
            "epoch 65, loss 0.11747007071971893\n",
            "tensor(0.1162, device='cuda:0', grad_fn=<MseLossBackward0>)\n",
            "epoch 66, loss 0.11615818738937378\n",
            "tensor(0.1149, device='cuda:0', grad_fn=<MseLossBackward0>)\n",
            "epoch 67, loss 0.11486102640628815\n",
            "tensor(0.1136, device='cuda:0', grad_fn=<MseLossBackward0>)\n",
            "epoch 68, loss 0.11357860267162323\n",
            "tensor(0.1123, device='cuda:0', grad_fn=<MseLossBackward0>)\n",
            "epoch 69, loss 0.11231017112731934\n",
            "tensor(0.1111, device='cuda:0', grad_fn=<MseLossBackward0>)\n",
            "epoch 70, loss 0.11105601489543915\n",
            "tensor(0.1098, device='cuda:0', grad_fn=<MseLossBackward0>)\n",
            "epoch 71, loss 0.10981589555740356\n",
            "tensor(0.1086, device='cuda:0', grad_fn=<MseLossBackward0>)\n",
            "epoch 72, loss 0.1085895523428917\n",
            "tensor(0.1074, device='cuda:0', grad_fn=<MseLossBackward0>)\n",
            "epoch 73, loss 0.10737701505422592\n",
            "tensor(0.1062, device='cuda:0', grad_fn=<MseLossBackward0>)\n",
            "epoch 74, loss 0.10617797076702118\n",
            "tensor(0.1050, device='cuda:0', grad_fn=<MseLossBackward0>)\n",
            "epoch 75, loss 0.10499229282140732\n",
            "tensor(0.1038, device='cuda:0', grad_fn=<MseLossBackward0>)\n",
            "epoch 76, loss 0.10381976515054703\n",
            "tensor(0.1027, device='cuda:0', grad_fn=<MseLossBackward0>)\n",
            "epoch 77, loss 0.10266048461198807\n",
            "tensor(0.1015, device='cuda:0', grad_fn=<MseLossBackward0>)\n",
            "epoch 78, loss 0.10151412338018417\n",
            "tensor(0.1004, device='cuda:0', grad_fn=<MseLossBackward0>)\n",
            "epoch 79, loss 0.10038058459758759\n",
            "tensor(0.0993, device='cuda:0', grad_fn=<MseLossBackward0>)\n",
            "epoch 80, loss 0.09925956279039383\n",
            "tensor(0.0982, device='cuda:0', grad_fn=<MseLossBackward0>)\n",
            "epoch 81, loss 0.09815114736557007\n",
            "tensor(0.0971, device='cuda:0', grad_fn=<MseLossBackward0>)\n",
            "epoch 82, loss 0.09705516695976257\n",
            "tensor(0.0960, device='cuda:0', grad_fn=<MseLossBackward0>)\n",
            "epoch 83, loss 0.09597129374742508\n",
            "tensor(0.0949, device='cuda:0', grad_fn=<MseLossBackward0>)\n",
            "epoch 84, loss 0.09489960223436356\n",
            "tensor(0.0938, device='cuda:0', grad_fn=<MseLossBackward0>)\n",
            "epoch 85, loss 0.09383988380432129\n",
            "tensor(0.0928, device='cuda:0', grad_fn=<MseLossBackward0>)\n",
            "epoch 86, loss 0.09279203414916992\n",
            "tensor(0.0918, device='cuda:0', grad_fn=<MseLossBackward0>)\n",
            "epoch 87, loss 0.09175583720207214\n",
            "tensor(0.0907, device='cuda:0', grad_fn=<MseLossBackward0>)\n",
            "epoch 88, loss 0.09073120355606079\n",
            "tensor(0.0897, device='cuda:0', grad_fn=<MseLossBackward0>)\n",
            "epoch 89, loss 0.08971802145242691\n",
            "tensor(0.0887, device='cuda:0', grad_fn=<MseLossBackward0>)\n",
            "epoch 90, loss 0.08871616423130035\n",
            "tensor(0.0877, device='cuda:0', grad_fn=<MseLossBackward0>)\n",
            "epoch 91, loss 0.0877254456281662\n",
            "tensor(0.0867, device='cuda:0', grad_fn=<MseLossBackward0>)\n",
            "epoch 92, loss 0.08674577623605728\n",
            "tensor(0.0858, device='cuda:0', grad_fn=<MseLossBackward0>)\n",
            "epoch 93, loss 0.08577720075845718\n",
            "tensor(0.0848, device='cuda:0', grad_fn=<MseLossBackward0>)\n",
            "epoch 94, loss 0.08481927961111069\n",
            "tensor(0.0839, device='cuda:0', grad_fn=<MseLossBackward0>)\n",
            "epoch 95, loss 0.08387213200330734\n",
            "tensor(0.0829, device='cuda:0', grad_fn=<MseLossBackward0>)\n",
            "epoch 96, loss 0.08293558657169342\n",
            "tensor(0.0820, device='cuda:0', grad_fn=<MseLossBackward0>)\n",
            "epoch 97, loss 0.08200942724943161\n",
            "tensor(0.0811, device='cuda:0', grad_fn=<MseLossBackward0>)\n",
            "epoch 98, loss 0.08109365403652191\n"
          ]
        }
      ]
    },
    {
      "cell_type": "code",
      "source": [
        "with torch.no_grad():\n",
        "    if torch.cuda.is_available():\n",
        "        predicted = model(Variable(torch.from_numpy(x_train).cuda())).cpu().data.numpy()\n",
        "    else:\n",
        "        predicted = model(Variable(torch.from_numpy(x_train))).data.numpy()\n",
        "    print(predicted)"
      ],
      "metadata": {
        "colab": {
          "base_uri": "https://localhost:8080/"
        },
        "id": "lR2s7uDMqWf6",
        "outputId": "63013ea1-b798-4973-a02a-5af5a8885ff7"
      },
      "execution_count": null,
      "outputs": [
        {
          "output_type": "stream",
          "name": "stdout",
          "text": [
            "[[ 0.47027114]\n",
            " [ 2.546557  ]\n",
            " [ 4.622843  ]\n",
            " [ 6.6991286 ]\n",
            " [ 8.775414  ]\n",
            " [10.851701  ]\n",
            " [12.927986  ]\n",
            " [15.004272  ]\n",
            " [17.080559  ]\n",
            " [19.156843  ]\n",
            " [21.23313   ]]\n"
          ]
        }
      ]
    },
    {
      "cell_type": "code",
      "source": [
        "plt.clf()\n",
        "plt.plot(x_train, y_train, 'go', label='True data', alpha=0.5)\n",
        "plt.plot(x_train, predicted, '--', label='Predictions', alpha=0.5)\n",
        "plt.legend(loc='best')\n",
        "plt.show()"
      ],
      "metadata": {
        "colab": {
          "base_uri": "https://localhost:8080/",
          "height": 430
        },
        "id": "cPFnzHFsqe8p",
        "outputId": "359991f9-84f1-4af5-ba9d-86522d2dd37c"
      },
      "execution_count": null,
      "outputs": [
        {
          "output_type": "display_data",
          "data": {
            "text/plain": [
              "<Figure size 640x480 with 1 Axes>"
            ],
            "image/png": "[encoded data removed]"
          },
          "metadata": {}
        }
      ]
    },
    {
      "cell_type": "code",
      "source": [],
      "metadata": {
        "id": "VPC6YziNqigi"
      },
      "execution_count": null,
      "outputs": []
    }
  ]
}