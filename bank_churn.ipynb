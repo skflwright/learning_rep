{
 "cells": [
  {
   "cell_type": "code",
   "execution_count": 1,
   "metadata": {},
   "outputs": [
    {
     "name": "stdout",
     "output_type": "stream",
     "text": [
      "Requirement already satisfied: lightgbm in /home/skfl/anaconda3/envs/mle11/lib/python3.10/site-packages (3.3.5)\n",
      "Requirement already satisfied: scipy in /home/skfl/anaconda3/envs/mle11/lib/python3.10/site-packages (from lightgbm) (1.9.3)\n",
      "Requirement already satisfied: wheel in /home/skfl/anaconda3/envs/mle11/lib/python3.10/site-packages (from lightgbm) (0.37.1)\n",
      "Requirement already satisfied: numpy in /home/skfl/anaconda3/envs/mle11/lib/python3.10/site-packages (from lightgbm) (1.23.1)\n",
      "Requirement already satisfied: scikit-learn!=0.22.0 in /home/skfl/anaconda3/envs/mle11/lib/python3.10/site-packages (from lightgbm) (1.2.1)\n",
      "Requirement already satisfied: joblib>=1.1.1 in /home/skfl/anaconda3/envs/mle11/lib/python3.10/site-packages (from scikit-learn!=0.22.0->lightgbm) (1.2.0)\n",
      "Requirement already satisfied: threadpoolctl>=2.0.0 in /home/skfl/anaconda3/envs/mle11/lib/python3.10/site-packages (from scikit-learn!=0.22.0->lightgbm) (3.1.0)\n",
      "Note: you may need to restart the kernel to use updated packages.\n",
      "Requirement already satisfied: pip in /home/skfl/anaconda3/envs/mle11/lib/python3.10/site-packages (23.0)\n",
      "Requirement already satisfied: scikit-learn in /home/skfl/anaconda3/envs/mle11/lib/python3.10/site-packages (1.2.1)\n",
      "Requirement already satisfied: threadpoolctl>=2.0.0 in /home/skfl/anaconda3/envs/mle11/lib/python3.10/site-packages (from scikit-learn) (3.1.0)\n",
      "Requirement already satisfied: numpy>=1.17.3 in /home/skfl/anaconda3/envs/mle11/lib/python3.10/site-packages (from scikit-learn) (1.23.1)\n",
      "Requirement already satisfied: scipy>=1.3.2 in /home/skfl/anaconda3/envs/mle11/lib/python3.10/site-packages (from scikit-learn) (1.9.3)\n",
      "Requirement already satisfied: joblib>=1.1.1 in /home/skfl/anaconda3/envs/mle11/lib/python3.10/site-packages (from scikit-learn) (1.2.0)\n",
      "Note: you may need to restart the kernel to use updated packages.\n",
      "Requirement already satisfied: dvc in /home/skfl/anaconda3/envs/mle11/lib/python3.10/site-packages (2.44.0)\n",
      "Requirement already satisfied: flatten-dict<1,>=0.4.1 in /home/skfl/anaconda3/envs/mle11/lib/python3.10/site-packages (from dvc) (0.4.2)\n",
      "Requirement already satisfied: tomlkit>=0.11.1 in /home/skfl/anaconda3/envs/mle11/lib/python3.10/site-packages (from dvc) (0.11.6)\n",
      "Requirement already satisfied: funcy>=1.14 in /home/skfl/anaconda3/envs/mle11/lib/python3.10/site-packages (from dvc) (1.18)\n",
      "Requirement already satisfied: dvclive>=1.2.2 in /home/skfl/anaconda3/envs/mle11/lib/python3.10/site-packages (from dvc) (2.0.2)\n",
      "Requirement already satisfied: dvc-http in /home/skfl/anaconda3/envs/mle11/lib/python3.10/site-packages (from dvc) (2.30.2)\n",
      "Requirement already satisfied: pygtrie>=2.3.2 in /home/skfl/anaconda3/envs/mle11/lib/python3.10/site-packages (from dvc) (2.5.0)\n",
      "Requirement already satisfied: pydot>=1.2.4 in /home/skfl/anaconda3/envs/mle11/lib/python3.10/site-packages (from dvc) (1.4.2)\n",
      "Requirement already satisfied: scmrepo==0.1.9 in /home/skfl/anaconda3/envs/mle11/lib/python3.10/site-packages (from dvc) (0.1.9)\n",
      "Requirement already satisfied: tabulate>=0.8.7 in /home/skfl/anaconda3/envs/mle11/lib/python3.10/site-packages (from dvc) (0.9.0)\n",
      "Requirement already satisfied: networkx>=2.5 in /home/skfl/anaconda3/envs/mle11/lib/python3.10/site-packages (from dvc) (3.0)\n",
      "Requirement already satisfied: rich>=10.13.0 in /home/skfl/anaconda3/envs/mle11/lib/python3.10/site-packages (from dvc) (13.2.0)\n",
      "Requirement already satisfied: shtab<2,>=1.3.4 in /home/skfl/anaconda3/envs/mle11/lib/python3.10/site-packages (from dvc) (1.5.8)\n",
      "Requirement already satisfied: dvc-data==0.39.3 in /home/skfl/anaconda3/envs/mle11/lib/python3.10/site-packages (from dvc) (0.39.3)\n",
      "Requirement already satisfied: tqdm<5,>=4.63.1 in /home/skfl/anaconda3/envs/mle11/lib/python3.10/site-packages (from dvc) (4.64.1)\n",
      "Requirement already satisfied: dvc-studio-client>=0.1.1 in /home/skfl/anaconda3/envs/mle11/lib/python3.10/site-packages (from dvc) (0.4.0)\n",
      "Requirement already satisfied: ruamel.yaml>=0.17.11 in /home/skfl/anaconda3/envs/mle11/lib/python3.10/site-packages (from dvc) (0.17.21)\n",
      "Requirement already satisfied: dpath<3,>=2.0.2 in /home/skfl/anaconda3/envs/mle11/lib/python3.10/site-packages (from dvc) (2.1.4)\n",
      "Requirement already satisfied: pyparsing>=2.4.7 in /home/skfl/anaconda3/envs/mle11/lib/python3.10/site-packages (from dvc) (3.0.9)\n",
      "Requirement already satisfied: distro>=1.3.0 in /home/skfl/anaconda3/envs/mle11/lib/python3.10/site-packages (from dvc) (1.8.0)\n",
      "Requirement already satisfied: shortuuid>=0.5.0 in /home/skfl/anaconda3/envs/mle11/lib/python3.10/site-packages (from dvc) (1.0.11)\n",
      "Requirement already satisfied: zc.lockfile>=1.2.1 in /home/skfl/anaconda3/envs/mle11/lib/python3.10/site-packages (from dvc) (2.0)\n",
      "Requirement already satisfied: pathspec>=0.10.3 in /home/skfl/anaconda3/envs/mle11/lib/python3.10/site-packages (from dvc) (0.11.0)\n",
      "Requirement already satisfied: packaging>=19.0 in /home/skfl/anaconda3/envs/mle11/lib/python3.10/site-packages (from dvc) (23.0)\n",
      "Requirement already satisfied: dvc-task==0.1.11 in /home/skfl/anaconda3/envs/mle11/lib/python3.10/site-packages (from dvc) (0.1.11)\n",
      "Requirement already satisfied: psutil>=5.8.0 in /home/skfl/anaconda3/envs/mle11/lib/python3.10/site-packages (from dvc) (5.9.4)\n",
      "Requirement already satisfied: configobj>=5.0.6 in /home/skfl/anaconda3/envs/mle11/lib/python3.10/site-packages (from dvc) (5.0.8)\n",
      "Requirement already satisfied: flufl.lock>=5 in /home/skfl/anaconda3/envs/mle11/lib/python3.10/site-packages (from dvc) (7.1.1)\n",
      "Requirement already satisfied: typing-extensions>=3.7.4 in /home/skfl/anaconda3/envs/mle11/lib/python3.10/site-packages (from dvc) (4.4.0)\n",
      "Requirement already satisfied: requests>=2.22.0 in /home/skfl/anaconda3/envs/mle11/lib/python3.10/site-packages (from dvc) (2.28.2)\n",
      "Requirement already satisfied: dvc-render==0.1.1 in /home/skfl/anaconda3/envs/mle11/lib/python3.10/site-packages (from dvc) (0.1.1)\n",
      "Requirement already satisfied: appdirs>=1.4.3 in /home/skfl/anaconda3/envs/mle11/lib/python3.10/site-packages (from dvc) (1.4.4)\n",
      "Requirement already satisfied: colorama>=0.3.9 in /home/skfl/anaconda3/envs/mle11/lib/python3.10/site-packages (from dvc) (0.4.6)\n",
      "Requirement already satisfied: iterative-telemetry==0.0.7 in /home/skfl/anaconda3/envs/mle11/lib/python3.10/site-packages (from dvc) (0.0.7)\n",
      "Requirement already satisfied: voluptuous>=0.11.7 in /home/skfl/anaconda3/envs/mle11/lib/python3.10/site-packages (from dvc) (0.13.1)\n",
      "Requirement already satisfied: grandalf<1,>=0.7 in /home/skfl/anaconda3/envs/mle11/lib/python3.10/site-packages (from dvc) (0.8)\n",
      "Requirement already satisfied: hydra-core>=1.1.0 in /home/skfl/anaconda3/envs/mle11/lib/python3.10/site-packages (from dvc) (1.3.1)\n",
      "Requirement already satisfied: nanotime>=0.5.2 in /home/skfl/anaconda3/envs/mle11/lib/python3.10/site-packages (from dvc-data==0.39.3->dvc) (0.5.2)\n",
      "Requirement already satisfied: dictdiffer>=0.8.1 in /home/skfl/anaconda3/envs/mle11/lib/python3.10/site-packages (from dvc-data==0.39.3->dvc) (0.9.0)\n",
      "Requirement already satisfied: diskcache>=5.2.1 in /home/skfl/anaconda3/envs/mle11/lib/python3.10/site-packages (from dvc-data==0.39.3->dvc) (5.4.0)\n",
      "Requirement already satisfied: sqltrie==0.0.28 in /home/skfl/anaconda3/envs/mle11/lib/python3.10/site-packages (from dvc-data==0.39.3->dvc) (0.0.28)\n",
      "Requirement already satisfied: attrs>=21.3.0 in /home/skfl/anaconda3/envs/mle11/lib/python3.10/site-packages (from dvc-data==0.39.3->dvc) (22.2.0)\n",
      "Requirement already satisfied: dvc-objects==0.19.3 in /home/skfl/anaconda3/envs/mle11/lib/python3.10/site-packages (from dvc-data==0.39.3->dvc) (0.19.3)\n",
      "Requirement already satisfied: kombu<6,>=5.2.0 in /home/skfl/anaconda3/envs/mle11/lib/python3.10/site-packages (from dvc-task==0.1.11->dvc) (5.2.4)\n",
      "Requirement already satisfied: celery<6,>=5.2.0 in /home/skfl/anaconda3/envs/mle11/lib/python3.10/site-packages (from dvc-task==0.1.11->dvc) (5.2.7)\n",
      "Requirement already satisfied: filelock in /home/skfl/anaconda3/envs/mle11/lib/python3.10/site-packages (from iterative-telemetry==0.0.7->dvc) (3.9.0)\n",
      "Requirement already satisfied: pygit2>=1.10.0 in /home/skfl/anaconda3/envs/mle11/lib/python3.10/site-packages (from scmrepo==0.1.9->dvc) (1.11.1)\n",
      "Requirement already satisfied: dulwich>=0.20.46 in /home/skfl/anaconda3/envs/mle11/lib/python3.10/site-packages (from scmrepo==0.1.9->dvc) (0.21.2)\n",
      "Requirement already satisfied: gitpython>3 in /home/skfl/anaconda3/envs/mle11/lib/python3.10/site-packages (from scmrepo==0.1.9->dvc) (3.1.30)\n",
      "Requirement already satisfied: asyncssh<3,>=2.7.1 in /home/skfl/anaconda3/envs/mle11/lib/python3.10/site-packages (from scmrepo==0.1.9->dvc) (2.13.0)\n",
      "Requirement already satisfied: fsspec>=2021.7.0 in /home/skfl/anaconda3/envs/mle11/lib/python3.10/site-packages (from scmrepo==0.1.9->dvc) (2023.1.0)\n",
      "Requirement already satisfied: orjson in /home/skfl/anaconda3/envs/mle11/lib/python3.10/site-packages (from sqltrie==0.0.28->dvc-data==0.39.3->dvc) (3.8.6)\n",
      "Requirement already satisfied: six in /home/skfl/anaconda3/envs/mle11/lib/python3.10/site-packages (from configobj>=5.0.6->dvc) (1.16.0)\n",
      "Requirement already satisfied: atpublic>=2.3 in /home/skfl/anaconda3/envs/mle11/lib/python3.10/site-packages (from flufl.lock>=5->dvc) (3.1.1)\n",
      "Requirement already satisfied: antlr4-python3-runtime==4.9.* in /home/skfl/anaconda3/envs/mle11/lib/python3.10/site-packages (from hydra-core>=1.1.0->dvc) (4.9.3)\n",
      "Requirement already satisfied: omegaconf<2.4,>=2.2 in /home/skfl/anaconda3/envs/mle11/lib/python3.10/site-packages (from hydra-core>=1.1.0->dvc) (2.3.0)\n",
      "Requirement already satisfied: urllib3<1.27,>=1.21.1 in /home/skfl/anaconda3/envs/mle11/lib/python3.10/site-packages (from requests>=2.22.0->dvc) (1.26.14)\n",
      "Requirement already satisfied: charset-normalizer<4,>=2 in /home/skfl/anaconda3/envs/mle11/lib/python3.10/site-packages (from requests>=2.22.0->dvc) (3.0.1)\n",
      "Requirement already satisfied: certifi>=2017.4.17 in /home/skfl/anaconda3/envs/mle11/lib/python3.10/site-packages (from requests>=2.22.0->dvc) (2022.12.7)\n",
      "Requirement already satisfied: idna<4,>=2.5 in /home/skfl/anaconda3/envs/mle11/lib/python3.10/site-packages (from requests>=2.22.0->dvc) (3.4)\n",
      "Requirement already satisfied: markdown-it-py<3.0.0,>=2.1.0 in /home/skfl/anaconda3/envs/mle11/lib/python3.10/site-packages (from rich>=10.13.0->dvc) (2.1.0)\n",
      "Requirement already satisfied: pygments<3.0.0,>=2.6.0 in /home/skfl/anaconda3/envs/mle11/lib/python3.10/site-packages (from rich>=10.13.0->dvc) (2.14.0)\n",
      "Requirement already satisfied: ruamel.yaml.clib>=0.2.6 in /home/skfl/anaconda3/envs/mle11/lib/python3.10/site-packages (from ruamel.yaml>=0.17.11->dvc) (0.2.7)\n",
      "Requirement already satisfied: setuptools in /home/skfl/anaconda3/envs/mle11/lib/python3.10/site-packages (from zc.lockfile>=1.2.1->dvc) (65.6.3)\n",
      "Requirement already satisfied: aiohttp-retry>=2.5.0 in /home/skfl/anaconda3/envs/mle11/lib/python3.10/site-packages (from dvc-http->dvc) (2.8.3)\n",
      "Requirement already satisfied: aiohttp in /home/skfl/anaconda3/envs/mle11/lib/python3.10/site-packages (from aiohttp-retry>=2.5.0->dvc-http->dvc) (3.8.4)\n",
      "Requirement already satisfied: cryptography>=3.1 in /home/skfl/anaconda3/envs/mle11/lib/python3.10/site-packages (from asyncssh<3,>=2.7.1->scmrepo==0.1.9->dvc) (39.0.1)\n",
      "Requirement already satisfied: pytz>=2021.3 in /home/skfl/anaconda3/envs/mle11/lib/python3.10/site-packages (from celery<6,>=5.2.0->dvc-task==0.1.11->dvc) (2022.7.1)\n",
      "Requirement already satisfied: click<9.0,>=8.0.3 in /home/skfl/anaconda3/envs/mle11/lib/python3.10/site-packages (from celery<6,>=5.2.0->dvc-task==0.1.11->dvc) (8.1.3)\n",
      "Requirement already satisfied: click-plugins>=1.1.1 in /home/skfl/anaconda3/envs/mle11/lib/python3.10/site-packages (from celery<6,>=5.2.0->dvc-task==0.1.11->dvc) (1.1.1)\n",
      "Requirement already satisfied: click-repl>=0.2.0 in /home/skfl/anaconda3/envs/mle11/lib/python3.10/site-packages (from celery<6,>=5.2.0->dvc-task==0.1.11->dvc) (0.2.0)\n",
      "Requirement already satisfied: vine<6.0,>=5.0.0 in /home/skfl/anaconda3/envs/mle11/lib/python3.10/site-packages (from celery<6,>=5.2.0->dvc-task==0.1.11->dvc) (5.0.0)\n",
      "Requirement already satisfied: billiard<4.0,>=3.6.4.0 in /home/skfl/anaconda3/envs/mle11/lib/python3.10/site-packages (from celery<6,>=5.2.0->dvc-task==0.1.11->dvc) (3.6.4.0)\n",
      "Requirement already satisfied: click-didyoumean>=0.0.3 in /home/skfl/anaconda3/envs/mle11/lib/python3.10/site-packages (from celery<6,>=5.2.0->dvc-task==0.1.11->dvc) (0.3.0)\n",
      "Requirement already satisfied: gitdb<5,>=4.0.1 in /home/skfl/anaconda3/envs/mle11/lib/python3.10/site-packages (from gitpython>3->scmrepo==0.1.9->dvc) (4.0.10)\n",
      "Requirement already satisfied: amqp<6.0.0,>=5.0.9 in /home/skfl/anaconda3/envs/mle11/lib/python3.10/site-packages (from kombu<6,>=5.2.0->dvc-task==0.1.11->dvc) (5.1.1)\n",
      "Requirement already satisfied: mdurl~=0.1 in /home/skfl/anaconda3/envs/mle11/lib/python3.10/site-packages (from markdown-it-py<3.0.0,>=2.1.0->rich>=10.13.0->dvc) (0.1.2)\n",
      "Requirement already satisfied: PyYAML>=5.1.0 in /home/skfl/anaconda3/envs/mle11/lib/python3.10/site-packages (from omegaconf<2.4,>=2.2->hydra-core>=1.1.0->dvc) (6.0)\n",
      "Requirement already satisfied: cffi>=1.9.1 in /home/skfl/anaconda3/envs/mle11/lib/python3.10/site-packages (from pygit2>=1.10.0->scmrepo==0.1.9->dvc) (1.15.1)\n",
      "Requirement already satisfied: yarl<2.0,>=1.0 in /home/skfl/anaconda3/envs/mle11/lib/python3.10/site-packages (from aiohttp->aiohttp-retry>=2.5.0->dvc-http->dvc) (1.8.2)\n",
      "Requirement already satisfied: frozenlist>=1.1.1 in /home/skfl/anaconda3/envs/mle11/lib/python3.10/site-packages (from aiohttp->aiohttp-retry>=2.5.0->dvc-http->dvc) (1.3.3)\n",
      "Requirement already satisfied: async-timeout<5.0,>=4.0.0a3 in /home/skfl/anaconda3/envs/mle11/lib/python3.10/site-packages (from aiohttp->aiohttp-retry>=2.5.0->dvc-http->dvc) (4.0.2)\n",
      "Requirement already satisfied: aiosignal>=1.1.2 in /home/skfl/anaconda3/envs/mle11/lib/python3.10/site-packages (from aiohttp->aiohttp-retry>=2.5.0->dvc-http->dvc) (1.3.1)\n",
      "Requirement already satisfied: multidict<7.0,>=4.5 in /home/skfl/anaconda3/envs/mle11/lib/python3.10/site-packages (from aiohttp->aiohttp-retry>=2.5.0->dvc-http->dvc) (6.0.4)\n",
      "Requirement already satisfied: pycparser in /home/skfl/anaconda3/envs/mle11/lib/python3.10/site-packages (from cffi>=1.9.1->pygit2>=1.10.0->scmrepo==0.1.9->dvc) (2.21)\n",
      "Requirement already satisfied: prompt-toolkit in /home/skfl/anaconda3/envs/mle11/lib/python3.10/site-packages (from click-repl>=0.2.0->celery<6,>=5.2.0->dvc-task==0.1.11->dvc) (3.0.36)\n",
      "Requirement already satisfied: smmap<6,>=3.0.1 in /home/skfl/anaconda3/envs/mle11/lib/python3.10/site-packages (from gitdb<5,>=4.0.1->gitpython>3->scmrepo==0.1.9->dvc) (5.0.0)\n",
      "Requirement already satisfied: wcwidth in /home/skfl/anaconda3/envs/mle11/lib/python3.10/site-packages (from prompt-toolkit->click-repl>=0.2.0->celery<6,>=5.2.0->dvc-task==0.1.11->dvc) (0.2.6)\n",
      "Note: you may need to restart the kernel to use updated packages.\n"
     ]
    }
   ],
   "source": [
    "%pip install lightgbm\n",
    "%pip install pip -U scikit-learn\n",
    "%pip install dvc\n",
    "\n",
    "import json\n",
    "from pathlib import Path\n"
   ]
  },
  {
   "attachments": {},
   "cell_type": "markdown",
   "metadata": {},
   "source": [
    "# Data Source: #\n",
    "\n",
    "https://kaggle.com/adammaus/predicting-churn-for-bank-customers"
   ]
  },
  {
   "attachments": {},
   "cell_type": "markdown",
   "metadata": {},
   "source": [
    "# Description #\n",
    "\n",
    "This dataset contains 10,000 records, each of which corresponds to a different bank's user. The target is to determine ExitedTask, a binary variable that describes whether the user decided to leave the bank. There are row and customer identifiers, four columns describing personal information about the user (surname, location, gender and age) and other columns containing information about the loan (credit score, current balance, active member, etc.)\n"
   ]
  },
  {
   "cell_type": "code",
   "execution_count": 2,
   "metadata": {},
   "outputs": [],
   "source": [
    "import numpy as np\n",
    "import pandas as pd\n",
    "import matplotlib.pyplot as plt\n",
    "import seaborn as sns\n",
    "from joblib import dump, load\n",
    "from lightgbm import LGBMClassifier\n",
    "from sklearn.ensemble import RandomForestClassifier   \n",
    "from sklearn.model_selection import train_test_split\n",
    "from sklearn.metrics import f1_score, roc_auc_score, ConfusionMatrixDisplay\n"
   ]
  },
  {
   "attachments": {},
   "cell_type": "markdown",
   "metadata": {},
   "source": [
    "This notebook illustrates standard MLflow where we first set up some parameters, for both our model and how we load and preprocess our data. "
   ]
  },
  {
   "attachments": {},
   "cell_type": "markdown",
   "metadata": {},
   "source": [
    "# SET UP PARAMETERS"
   ]
  },
  {
   "cell_type": "code",
   "execution_count": 3,
   "metadata": {},
   "outputs": [],
   "source": [
    "churn_filepath = Path('data')/'Churn_Modelling.csv'\n",
    "cat_cols = []\n",
    "num_cols = [\n",
    "    'CreditScore',\n",
    "    'Age',\n",
    "    'Tenure',\n",
    "    'Balance',\n",
    "    'NumOfProducts',\n",
    "    'HasCrCard',\n",
    "    'IsActiveMember',\n",
    "    'EstimatedSalary',\n",
    "]\n",
    "targ_col='Exited'\n",
    "test_size = .25\n",
    "random_state = 42\n",
    "models_dir = Path('models')\n",
    "models_dir.mkdir(exist_ok=True)\n",
    "model_fname = 'model.joblib'\n",
    "\n",
    "#papermill parameter\n",
    "model_type = 'random-forest'\n",
    "n_estimators = 50\n",
    "max_depth = 5\n",
    "\n",
    "train_params = {'n_estimators':n_estimators,\n",
    "                'max_depth': max_depth}"
   ]
  },
  {
   "attachments": {},
   "cell_type": "markdown",
   "metadata": {},
   "source": [
    "READ DATA"
   ]
  },
  {
   "cell_type": "code",
   "execution_count": 4,
   "metadata": {},
   "outputs": [],
   "source": [
    "df= pd.read_csv('Churn_Modelling.csv')"
   ]
  },
  {
   "cell_type": "code",
   "execution_count": 5,
   "metadata": {},
   "outputs": [
    {
     "data": {
      "text/html": [
       "<div>\n",
       "<style scoped>\n",
       "    .dataframe tbody tr th:only-of-type {\n",
       "        vertical-align: middle;\n",
       "    }\n",
       "\n",
       "    .dataframe tbody tr th {\n",
       "        vertical-align: top;\n",
       "    }\n",
       "\n",
       "    .dataframe thead th {\n",
       "        text-align: right;\n",
       "    }\n",
       "</style>\n",
       "<table border=\"1\" class=\"dataframe\">\n",
       "  <thead>\n",
       "    <tr style=\"text-align: right;\">\n",
       "      <th></th>\n",
       "      <th>RowNumber</th>\n",
       "      <th>CustomerId</th>\n",
       "      <th>Surname</th>\n",
       "      <th>CreditScore</th>\n",
       "      <th>Geography</th>\n",
       "      <th>Gender</th>\n",
       "      <th>Age</th>\n",
       "      <th>Tenure</th>\n",
       "      <th>Balance</th>\n",
       "      <th>NumOfProducts</th>\n",
       "      <th>HasCrCard</th>\n",
       "      <th>IsActiveMember</th>\n",
       "      <th>EstimatedSalary</th>\n",
       "      <th>Exited</th>\n",
       "    </tr>\n",
       "  </thead>\n",
       "  <tbody>\n",
       "    <tr>\n",
       "      <th>0</th>\n",
       "      <td>1</td>\n",
       "      <td>15634602</td>\n",
       "      <td>Hargrave</td>\n",
       "      <td>619</td>\n",
       "      <td>France</td>\n",
       "      <td>Female</td>\n",
       "      <td>42</td>\n",
       "      <td>2</td>\n",
       "      <td>0.00</td>\n",
       "      <td>1</td>\n",
       "      <td>1</td>\n",
       "      <td>1</td>\n",
       "      <td>101348.88</td>\n",
       "      <td>1</td>\n",
       "    </tr>\n",
       "    <tr>\n",
       "      <th>1</th>\n",
       "      <td>2</td>\n",
       "      <td>15647311</td>\n",
       "      <td>Hill</td>\n",
       "      <td>608</td>\n",
       "      <td>Spain</td>\n",
       "      <td>Female</td>\n",
       "      <td>41</td>\n",
       "      <td>1</td>\n",
       "      <td>83807.86</td>\n",
       "      <td>1</td>\n",
       "      <td>0</td>\n",
       "      <td>1</td>\n",
       "      <td>112542.58</td>\n",
       "      <td>0</td>\n",
       "    </tr>\n",
       "    <tr>\n",
       "      <th>2</th>\n",
       "      <td>3</td>\n",
       "      <td>15619304</td>\n",
       "      <td>Onio</td>\n",
       "      <td>502</td>\n",
       "      <td>France</td>\n",
       "      <td>Female</td>\n",
       "      <td>42</td>\n",
       "      <td>8</td>\n",
       "      <td>159660.80</td>\n",
       "      <td>3</td>\n",
       "      <td>1</td>\n",
       "      <td>0</td>\n",
       "      <td>113931.57</td>\n",
       "      <td>1</td>\n",
       "    </tr>\n",
       "    <tr>\n",
       "      <th>3</th>\n",
       "      <td>4</td>\n",
       "      <td>15701354</td>\n",
       "      <td>Boni</td>\n",
       "      <td>699</td>\n",
       "      <td>France</td>\n",
       "      <td>Female</td>\n",
       "      <td>39</td>\n",
       "      <td>1</td>\n",
       "      <td>0.00</td>\n",
       "      <td>2</td>\n",
       "      <td>0</td>\n",
       "      <td>0</td>\n",
       "      <td>93826.63</td>\n",
       "      <td>0</td>\n",
       "    </tr>\n",
       "    <tr>\n",
       "      <th>4</th>\n",
       "      <td>5</td>\n",
       "      <td>15737888</td>\n",
       "      <td>Mitchell</td>\n",
       "      <td>850</td>\n",
       "      <td>Spain</td>\n",
       "      <td>Female</td>\n",
       "      <td>43</td>\n",
       "      <td>2</td>\n",
       "      <td>125510.82</td>\n",
       "      <td>1</td>\n",
       "      <td>1</td>\n",
       "      <td>1</td>\n",
       "      <td>79084.10</td>\n",
       "      <td>0</td>\n",
       "    </tr>\n",
       "  </tbody>\n",
       "</table>\n",
       "</div>"
      ],
      "text/plain": [
       "   RowNumber  CustomerId   Surname  CreditScore Geography  Gender  Age  \\\n",
       "0          1    15634602  Hargrave          619    France  Female   42   \n",
       "1          2    15647311      Hill          608     Spain  Female   41   \n",
       "2          3    15619304      Onio          502    France  Female   42   \n",
       "3          4    15701354      Boni          699    France  Female   39   \n",
       "4          5    15737888  Mitchell          850     Spain  Female   43   \n",
       "\n",
       "   Tenure    Balance  NumOfProducts  HasCrCard  IsActiveMember  \\\n",
       "0       2       0.00              1          1               1   \n",
       "1       1   83807.86              1          0               1   \n",
       "2       8  159660.80              3          1               0   \n",
       "3       1       0.00              2          0               0   \n",
       "4       2  125510.82              1          1               1   \n",
       "\n",
       "   EstimatedSalary  Exited  \n",
       "0        101348.88       1  \n",
       "1        112542.58       0  \n",
       "2        113931.57       1  \n",
       "3         93826.63       0  \n",
       "4         79084.10       0  "
      ]
     },
     "execution_count": 5,
     "metadata": {},
     "output_type": "execute_result"
    }
   ],
   "source": [
    "df.head()"
   ]
  },
  {
   "attachments": {},
   "cell_type": "markdown",
   "metadata": {},
   "source": [
    "Data Exploration"
   ]
  },
  {
   "cell_type": "code",
   "execution_count": 6,
   "metadata": {},
   "outputs": [
    {
     "data": {
      "text/plain": [
       "(10000, 14)"
      ]
     },
     "execution_count": 6,
     "metadata": {},
     "output_type": "execute_result"
    }
   ],
   "source": [
    "df.shape"
   ]
  },
  {
   "cell_type": "code",
   "execution_count": 7,
   "metadata": {},
   "outputs": [
    {
     "data": {
      "text/plain": [
       "RowNumber          0\n",
       "CustomerId         0\n",
       "Surname            0\n",
       "CreditScore        0\n",
       "Geography          0\n",
       "Gender             0\n",
       "Age                0\n",
       "Tenure             0\n",
       "Balance            0\n",
       "NumOfProducts      0\n",
       "HasCrCard          0\n",
       "IsActiveMember     0\n",
       "EstimatedSalary    0\n",
       "Exited             0\n",
       "dtype: int64"
      ]
     },
     "execution_count": 7,
     "metadata": {},
     "output_type": "execute_result"
    }
   ],
   "source": [
    "df.isna().sum()"
   ]
  },
  {
   "cell_type": "code",
   "execution_count": 8,
   "metadata": {},
   "outputs": [
    {
     "name": "stdout",
     "output_type": "stream",
     "text": [
      "<class 'pandas.core.frame.DataFrame'>\n",
      "RangeIndex: 10000 entries, 0 to 9999\n",
      "Data columns (total 14 columns):\n",
      " #   Column           Non-Null Count  Dtype  \n",
      "---  ------           --------------  -----  \n",
      " 0   RowNumber        10000 non-null  int64  \n",
      " 1   CustomerId       10000 non-null  int64  \n",
      " 2   Surname          10000 non-null  object \n",
      " 3   CreditScore      10000 non-null  int64  \n",
      " 4   Geography        10000 non-null  object \n",
      " 5   Gender           10000 non-null  object \n",
      " 6   Age              10000 non-null  int64  \n",
      " 7   Tenure           10000 non-null  int64  \n",
      " 8   Balance          10000 non-null  float64\n",
      " 9   NumOfProducts    10000 non-null  int64  \n",
      " 10  HasCrCard        10000 non-null  int64  \n",
      " 11  IsActiveMember   10000 non-null  int64  \n",
      " 12  EstimatedSalary  10000 non-null  float64\n",
      " 13  Exited           10000 non-null  int64  \n",
      "dtypes: float64(2), int64(9), object(3)\n",
      "memory usage: 1.1+ MB\n"
     ]
    }
   ],
   "source": [
    "df.info()"
   ]
  },
  {
   "cell_type": "code",
   "execution_count": 9,
   "metadata": {},
   "outputs": [
    {
     "data": {
      "text/plain": [
       "France     5014\n",
       "Germany    2509\n",
       "Spain      2477\n",
       "Name: Geography, dtype: int64"
      ]
     },
     "execution_count": 9,
     "metadata": {},
     "output_type": "execute_result"
    }
   ],
   "source": [
    "df['Geography'].value_counts()"
   ]
  },
  {
   "attachments": {},
   "cell_type": "markdown",
   "metadata": {},
   "source": [
    "Data Processing & Splitting"
   ]
  },
  {
   "cell_type": "code",
   "execution_count": 10,
   "metadata": {},
   "outputs": [],
   "source": [
    "X,y = df[cat_cols + num_cols], df[targ_col] # splitting data set into features and targets\n"
   ]
  },
  {
   "cell_type": "code",
   "execution_count": 11,
   "metadata": {},
   "outputs": [
    {
     "data": {
      "text/plain": [
       "0.2037"
      ]
     },
     "execution_count": 11,
     "metadata": {},
     "output_type": "execute_result"
    }
   ],
   "source": [
    "y.mean()"
   ]
  },
  {
   "cell_type": "code",
   "execution_count": 12,
   "metadata": {},
   "outputs": [],
   "source": [
    "# split into train and test \n",
    "\n",
    "X_train, X_test, y_train, y_test = train_test_split(X,y,\n",
    "                                                    test_size=test_size,\n",
    "                                                    random_state=random_state)"
   ]
  },
  {
   "attachments": {},
   "cell_type": "markdown",
   "metadata": {},
   "source": [
    "Train the Model"
   ]
  },
  {
   "cell_type": "code",
   "execution_count": 13,
   "metadata": {},
   "outputs": [
    {
     "data": {
      "text/html": [
       "<style>#sk-container-id-1 {color: black;background-color: white;}#sk-container-id-1 pre{padding: 0;}#sk-container-id-1 div.sk-toggleable {background-color: white;}#sk-container-id-1 label.sk-toggleable__label {cursor: pointer;display: block;width: 100%;margin-bottom: 0;padding: 0.3em;box-sizing: border-box;text-align: center;}#sk-container-id-1 label.sk-toggleable__label-arrow:before {content: \"▸\";float: left;margin-right: 0.25em;color: #696969;}#sk-container-id-1 label.sk-toggleable__label-arrow:hover:before {color: black;}#sk-container-id-1 div.sk-estimator:hover label.sk-toggleable__label-arrow:before {color: black;}#sk-container-id-1 div.sk-toggleable__content {max-height: 0;max-width: 0;overflow: hidden;text-align: left;background-color: #f0f8ff;}#sk-container-id-1 div.sk-toggleable__content pre {margin: 0.2em;color: black;border-radius: 0.25em;background-color: #f0f8ff;}#sk-container-id-1 input.sk-toggleable__control:checked~div.sk-toggleable__content {max-height: 200px;max-width: 100%;overflow: auto;}#sk-container-id-1 input.sk-toggleable__control:checked~label.sk-toggleable__label-arrow:before {content: \"▾\";}#sk-container-id-1 div.sk-estimator input.sk-toggleable__control:checked~label.sk-toggleable__label {background-color: #d4ebff;}#sk-container-id-1 div.sk-label input.sk-toggleable__control:checked~label.sk-toggleable__label {background-color: #d4ebff;}#sk-container-id-1 input.sk-hidden--visually {border: 0;clip: rect(1px 1px 1px 1px);clip: rect(1px, 1px, 1px, 1px);height: 1px;margin: -1px;overflow: hidden;padding: 0;position: absolute;width: 1px;}#sk-container-id-1 div.sk-estimator {font-family: monospace;background-color: #f0f8ff;border: 1px dotted black;border-radius: 0.25em;box-sizing: border-box;margin-bottom: 0.5em;}#sk-container-id-1 div.sk-estimator:hover {background-color: #d4ebff;}#sk-container-id-1 div.sk-parallel-item::after {content: \"\";width: 100%;border-bottom: 1px solid gray;flex-grow: 1;}#sk-container-id-1 div.sk-label:hover label.sk-toggleable__label {background-color: #d4ebff;}#sk-container-id-1 div.sk-serial::before {content: \"\";position: absolute;border-left: 1px solid gray;box-sizing: border-box;top: 0;bottom: 0;left: 50%;z-index: 0;}#sk-container-id-1 div.sk-serial {display: flex;flex-direction: column;align-items: center;background-color: white;padding-right: 0.2em;padding-left: 0.2em;position: relative;}#sk-container-id-1 div.sk-item {position: relative;z-index: 1;}#sk-container-id-1 div.sk-parallel {display: flex;align-items: stretch;justify-content: center;background-color: white;position: relative;}#sk-container-id-1 div.sk-item::before, #sk-container-id-1 div.sk-parallel-item::before {content: \"\";position: absolute;border-left: 1px solid gray;box-sizing: border-box;top: 0;bottom: 0;left: 50%;z-index: -1;}#sk-container-id-1 div.sk-parallel-item {display: flex;flex-direction: column;z-index: 1;position: relative;background-color: white;}#sk-container-id-1 div.sk-parallel-item:first-child::after {align-self: flex-end;width: 50%;}#sk-container-id-1 div.sk-parallel-item:last-child::after {align-self: flex-start;width: 50%;}#sk-container-id-1 div.sk-parallel-item:only-child::after {width: 0;}#sk-container-id-1 div.sk-dashed-wrapped {border: 1px dashed gray;margin: 0 0.4em 0.5em 0.4em;box-sizing: border-box;padding-bottom: 0.4em;background-color: white;}#sk-container-id-1 div.sk-label label {font-family: monospace;font-weight: bold;display: inline-block;line-height: 1.2em;}#sk-container-id-1 div.sk-label-container {text-align: center;}#sk-container-id-1 div.sk-container {/* jupyter's `normalize.less` sets `[hidden] { display: none; }` but bootstrap.min.css set `[hidden] { display: none !important; }` so we also need the `!important` here to be able to override the default hidden behavior on the sphinx rendered scikit-learn.org. See: https://github.com/scikit-learn/scikit-learn/issues/21755 */display: inline-block !important;position: relative;}#sk-container-id-1 div.sk-text-repr-fallback {display: none;}</style><div id=\"sk-container-id-1\" class=\"sk-top-container\"><div class=\"sk-text-repr-fallback\"><pre>RandomForestClassifier(max_depth=5, n_estimators=50, random_state=42)</pre><b>In a Jupyter environment, please rerun this cell to show the HTML representation or trust the notebook. <br />On GitHub, the HTML representation is unable to render, please try loading this page with nbviewer.org.</b></div><div class=\"sk-container\" hidden><div class=\"sk-item\"><div class=\"sk-estimator sk-toggleable\"><input class=\"sk-toggleable__control sk-hidden--visually\" id=\"sk-estimator-id-1\" type=\"checkbox\" checked><label for=\"sk-estimator-id-1\" class=\"sk-toggleable__label sk-toggleable__label-arrow\">RandomForestClassifier</label><div class=\"sk-toggleable__content\"><pre>RandomForestClassifier(max_depth=5, n_estimators=50, random_state=42)</pre></div></div></div></div></div>"
      ],
      "text/plain": [
       "RandomForestClassifier(max_depth=5, n_estimators=50, random_state=42)"
      ]
     },
     "execution_count": 13,
     "metadata": {},
     "output_type": "execute_result"
    }
   ],
   "source": [
    "# In training the model, here we want to have an option betweeen training a classifier using random forest versus LGBM versus light gbm\n",
    "if model_type=='random-forest':\n",
    "    clf = RandomForestClassifier(random_state=random_state,**train_params)\n",
    "elif model_type=='lightgbm':\n",
    "    clf = LGBMClassifier(random_state=random_state, **train_params)\n",
    "else: \n",
    "    raise Exception('Unsupported model_type')\n",
    "clf.fit(X_train,y_train)"
   ]
  },
  {
   "cell_type": "code",
   "execution_count": 14,
   "metadata": {},
   "outputs": [
    {
     "data": {
      "text/plain": [
       "['models/model.joblib']"
      ]
     },
     "execution_count": 14,
     "metadata": {},
     "output_type": "execute_result"
    }
   ],
   "source": [
    "# once the file is trained you save it to a file \n",
    "dump(clf,models_dir/model_fname)"
   ]
  },
  {
   "cell_type": "code",
   "execution_count": 15,
   "metadata": {},
   "outputs": [],
   "source": [
    "clf=load(models_dir/model_fname)"
   ]
  },
  {
   "attachments": {},
   "cell_type": "markdown",
   "metadata": {},
   "source": [
    "# Model Evaluation"
   ]
  },
  {
   "cell_type": "code",
   "execution_count": 16,
   "metadata": {},
   "outputs": [],
   "source": [
    "# Now you want to produce some evaluation plots. The following is what Alex Kim had as his code but it did not work for me. \n",
    "# Produced the error that 'plot_confusion_matrix' is not defined so ended up defining and creating my own version.\n",
    "#plot_confusion_matrix(clf, X_test, y_test, normalize='true',cmap=plt.cm.Blues)\n",
    "#plt.savefig(Path('eval_plots')/cm.png)\n"
   ]
  },
  {
   "cell_type": "code",
   "execution_count": 17,
   "metadata": {},
   "outputs": [
    {
     "name": "stdout",
     "output_type": "stream",
     "text": [
      "Normalized confusion matrix\n",
      "[[0.97903145 0.02096855]\n",
      " [0.61971831 0.38028169]]\n"
     ]
    },
    {
     "data": {
      "image/png": "[encoded data removed]",
      "text/plain": [
       "<Figure size 640x480 with 2 Axes>"
      ]
     },
     "metadata": {},
     "output_type": "display_data"
    }
   ],
   "source": [
    "# Creating confusion matrix evaluation plot.\n",
    "\n",
    "#predictions = clf.predict(X_test)\n",
    "#cm = confusion_matrix(y_test, predictions, labels=clf.classes, normalize='true',cmap=plt.cm.Blues)\n",
    "titles_options = [\n",
    "    #(\"Confusion matrix, without normalization\", None),\n",
    "    (\"Normalized confusion matrix\", \"true\"),\n",
    "]\n",
    "for title, normalize in titles_options:\n",
    "    disp = ConfusionMatrixDisplay.from_estimator(\n",
    "        clf,\n",
    "        X_test,\n",
    "        y_test,\n",
    "        cmap=plt.cm.Blues,\n",
    "        normalize=normalize,\n",
    "    )\n",
    "    disp.ax_.set_title(title)\n",
    "\n",
    "    print(title)\n",
    "    print(disp.confusion_matrix)\n",
    "\n",
    "\n",
    "plt.savefig(Path('eval_plots')/'cm.png')"
   ]
  },
  {
   "cell_type": "code",
   "execution_count": 18,
   "metadata": {},
   "outputs": [],
   "source": [
    "y_prob = clf.predict_proba(X_test)\n",
    "y_pred = y_prob[:,1]>= .5"
   ]
  },
  {
   "cell_type": "code",
   "execution_count": 19,
   "metadata": {},
   "outputs": [],
   "source": [
    "import os\n",
    "from dvclive import Live\n",
    "live = Live('eval_plots')\n",
    "live.log_sklearn_plot('roc', y_test, y_prob [:,1])\n"
   ]
  },
  {
   "cell_type": "code",
   "execution_count": 20,
   "metadata": {},
   "outputs": [
    {
     "data": {
      "text/plain": [
       "{'f1': 0.5192307692307692, 'roc_auc': 0.8356825928109848}"
      ]
     },
     "execution_count": 20,
     "metadata": {},
     "output_type": "execute_result"
    }
   ],
   "source": [
    "# here we are producing binary classification metrics  (the f1 score and the roc auc, which is equal to the area under receiving operator curve )\n",
    "f1 = f1_score(y_test, y_pred)\n",
    "roc_auc = roc_auc_score(y_test,y_prob[:,1])\n",
    "metrics = {\n",
    "    'f1': f1,\n",
    "    'roc_auc': roc_auc\n",
    "}\n",
    "metrics\n"
   ]
  },
  {
   "cell_type": "code",
   "execution_count": 21,
   "metadata": {},
   "outputs": [],
   "source": [
    "# save metrics into a json file\n",
    "# \n",
    "json.dump(\n",
    "    obj = metrics,\n",
    "    fp = open('metrics.json','w'),\n",
    "    indent = 4,\n",
    "    sort_keys = True\n",
    ")"
   ]
  },
  {
   "attachments": {},
   "cell_type": "markdown",
   "metadata": {},
   "source": [
    "Once you have your notebook defined, you can define your pipeline. This is a one stage pipeline that runs the notebook top to bottom with papermill. "
   ]
  },
  {
   "cell_type": "code",
   "execution_count": 22,
   "metadata": {},
   "outputs": [],
   "source": [
    " \n",
    "save_dvc_exp=True"
   ]
  },
  {
   "cell_type": "code",
   "execution_count": null,
   "metadata": {},
   "outputs": [],
   "source": [
    "#from dvclive import Live\n",
    "\n",
    "#with Live(save_dvc_exp=True) as live:\n",
    " #   live.log_param(\"epochs\", NUM_EPOCHS)\n",
    "\n",
    "  #  for epoch in range(NUM_EPOCHS):\n",
    "   #     train_model(...)\n",
    "    #    metrics = evaluate_model(...)\n",
    "     #   for metric_name, value in metrics.items():\n",
    "      #      live.log_metric(metric_name, value)\n",
    "       # live.next_step()"
   ]
  },
  {
   "cell_type": "code",
   "execution_count": null,
   "metadata": {},
   "outputs": [],
   "source": [
    "#huggingface\n",
    "#trainer.add_callback(DVCLiveCallback(save_dvc_exp=True))\n",
    "#trainer.train()"
   ]
  }
 ],
 "metadata": {
  "kernelspec": {
   "display_name": "mle11",
   "language": "python",
   "name": "python3"
  },
  "language_info": {
   "codemirror_mode": {
    "name": "ipython",
    "version": 3
   },
   "file_extension": ".py",
   "mimetype": "text/x-python",
   "name": "python",
   "nbconvert_exporter": "python",
   "pygments_lexer": "ipython3",
   "version": "3.10.9"
  },
  "orig_nbformat": 4,
  "vscode": {
   "interpreter": {
    "hash": "f5d6e23cc21c3c22d5d038dfc2dc514a112c246cb6af6beae11f4484b62ad85b"
   }
  }
 },
 "nbformat": 4,
 "nbformat_minor": 2
}
