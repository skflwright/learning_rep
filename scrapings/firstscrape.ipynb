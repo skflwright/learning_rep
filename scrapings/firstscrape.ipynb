{
  "nbformat": 4,
  "nbformat_minor": 0,
  "metadata": {
    "colab": {
      "provenance": []
    },
    "kernelspec": {
      "name": "python3",
      "display_name": "Python 3"
    },
    "language_info": {
      "name": "python"
    }
  },
  "cells": [
    {
      "cell_type": "code",
      "source": [
        "# First, install the necessary libraries\n",
        "!pip install requests\n",
        "!pip install bs4\n",
        "\n",
        "\n"
      ],
      "metadata": {
        "colab": {
          "base_uri": "https://localhost:8080/"
        },
        "id": "tZ_vmlNHHV49",
        "outputId": "5f3f706c-1d33-40ea-c603-02153beb2582"
      },
      "execution_count": 1,
      "outputs": [
        {
          "output_type": "stream",
          "name": "stdout",
          "text": [
            "Looking in indexes: https://pypi.org/simple, https://us-python.pkg.dev/colab-wheels/public/simple/\n",
            "Requirement already satisfied: requests in /usr/local/lib/python3.8/dist-packages (2.25.1)\n",
            "Requirement already satisfied: urllib3<1.27,>=1.21.1 in /usr/local/lib/python3.8/dist-packages (from requests) (1.24.3)\n",
            "Requirement already satisfied: idna<3,>=2.5 in /usr/local/lib/python3.8/dist-packages (from requests) (2.10)\n",
            "Requirement already satisfied: certifi>=2017.4.17 in /usr/local/lib/python3.8/dist-packages (from requests) (2022.12.7)\n",
            "Requirement already satisfied: chardet<5,>=3.0.2 in /usr/local/lib/python3.8/dist-packages (from requests) (4.0.0)\n",
            "Looking in indexes: https://pypi.org/simple, https://us-python.pkg.dev/colab-wheels/public/simple/\n",
            "Requirement already satisfied: bs4 in /usr/local/lib/python3.8/dist-packages (0.0.1)\n",
            "Requirement already satisfied: beautifulsoup4 in /usr/local/lib/python3.8/dist-packages (from bs4) (4.6.3)\n"
          ]
        }
      ]
    },
    {
      "cell_type": "code",
      "source": [
        "# Import the libraries\n",
        "import requests\n",
        "from bs4 import BeautifulSoup\n",
        "\n",
        "\n"
      ],
      "metadata": {
        "id": "4hLBP0yTH2fH"
      },
      "execution_count": 2,
      "outputs": []
    },
    {
      "cell_type": "code",
      "source": [
        "page_to_scrape = requests.get(\"http://quotes.toscrape.com\")\n"
      ],
      "metadata": {
        "id": "Q7TuPZexS1kv"
      },
      "execution_count": 3,
      "outputs": []
    },
    {
      "cell_type": "code",
      "source": [
        "soup = BeautifulSoup(page_to_scrape.text, \"html.parser\")"
      ],
      "metadata": {
        "id": "23axKh9DS1n3"
      },
      "execution_count": 4,
      "outputs": []
    },
    {
      "cell_type": "code",
      "source": [
        "quotes = soup.findAll(\"span\", attrs = {\"class\":\"text\"})\n",
        "authors = soup.findAll(\"small\", attrs={\"class\":\"author\"})"
      ],
      "metadata": {
        "id": "CkWkmUmiS1qy"
      },
      "execution_count": 5,
      "outputs": []
    },
    {
      "cell_type": "code",
      "source": [
        "for quote in quotes:\n",
        "  print(quote.text)\n",
        "for author in authors:\n",
        "  print(author.text)"
      ],
      "metadata": {
        "colab": {
          "base_uri": "https://localhost:8080/"
        },
        "id": "b7mq3BVdS1tR",
        "outputId": "1e32877c-4a77-4c75-9207-f74f92316b96"
      },
      "execution_count": 6,
      "outputs": [
        {
          "output_type": "stream",
          "name": "stdout",
          "text": [
            "“The world as we have created it is a process of our thinking. It cannot be changed without changing our thinking.”\n",
            "“It is our choices, Harry, that show what we truly are, far more than our abilities.”\n",
            "“There are only two ways to live your life. One is as though nothing is a miracle. The other is as though everything is a miracle.”\n",
            "“The person, be it gentleman or lady, who has not pleasure in a good novel, must be intolerably stupid.”\n",
            "“Imperfection is beauty, madness is genius and it's better to be absolutely ridiculous than absolutely boring.”\n",
            "“Try not to become a man of success. Rather become a man of value.”\n",
            "“It is better to be hated for what you are than to be loved for what you are not.”\n",
            "“I have not failed. I've just found 10,000 ways that won't work.”\n",
            "“A woman is like a tea bag; you never know how strong it is until it's in hot water.”\n",
            "“A day without sunshine is like, you know, night.”\n",
            "Albert Einstein\n",
            "J.K. Rowling\n",
            "Albert Einstein\n",
            "Jane Austen\n",
            "Marilyn Monroe\n",
            "Albert Einstein\n",
            "André Gide\n",
            "Thomas A. Edison\n",
            "Eleanor Roosevelt\n",
            "Steve Martin\n"
          ]
        }
      ]
    },
    {
      "cell_type": "markdown",
      "source": [
        "## Test over - trying with real sites"
      ],
      "metadata": {
        "id": "TKRfdp5UT9Si"
      }
    },
    {
      "cell_type": "code",
      "source": [
        "page_to_scrape = requests.get(\"https://www.michaels.com/customer-care/support-topics/72863742518935553\")"
      ],
      "metadata": {
        "id": "m4zvEMgsS1wT"
      },
      "execution_count": 7,
      "outputs": []
    },
    {
      "cell_type": "code",
      "source": [
        "soup = BeautifulSoup(page_to_scrape.text, \"html.parser\")"
      ],
      "metadata": {
        "id": "Z_xT6ER6UCOl"
      },
      "execution_count": 8,
      "outputs": []
    },
    {
      "cell_type": "code",
      "source": [
        "questions = soup.findAll(\"p\", attrs={\"class\":\"chakra-text\"})\n"
      ],
      "metadata": {
        "id": "V_Xg6PSYUWR1"
      },
      "execution_count": 9,
      "outputs": []
    },
    {
      "cell_type": "code",
      "source": [
        "for question in questions:\n",
        "  print(question.text)\n"
      ],
      "metadata": {
        "colab": {
          "base_uri": "https://localhost:8080/"
        },
        "id": "KolpQpsGUWqb",
        "outputId": "6ca6c896-252d-4ff9-d7f8-e50b5ccceaee"
      },
      "execution_count": 10,
      "outputs": [
        {
          "output_type": "stream",
          "name": "stdout",
          "text": [
            "Michaels\n",
            "Business\n",
            "Enterprise\n",
            "Education\n",
            "Photo Gift\n",
            "Michaels Rewards\n",
            "Classes & Events\n",
            "Projects\n",
            "Weekly Ad\n",
            "Coupons\n",
            "Shop Categories.css-1sjif43{margin-right:20px;}.css-1sjif43 svg{width:20px;height:20px;}.css-1sjif43 .iconFill path{stroke:#000000;fill:#000000;}.css-1sjif43 .icon-tabler rect,.css-1sjif43 .icon-tabler circle,.css-1sjif43 .icon-tabler ellipse,.css-1sjif43 .icon-tabler line,.css-1sjif43 .icon-tabler polyline,.css-1sjif43 .icon-tabler polygon,.css-1sjif43 .icon-tabler path{stroke:#000000;}.css-1sjif43 .icon-tabler path:nth-of-type(1){stroke:none;}\n",
            "\n",
            "\n",
            "\n",
            "Valentine's Day\n",
            "Spring\n",
            "Custom Framing\n",
            "MichaelsPRO™\n",
            "Classes & Events\n",
            "\n",
            "\n",
            "Customer Care\n",
            "\n",
            "\n",
            "Why am I being charged for additional shipping?\n",
            "Oversized items, express shipping and same day delivery orders have additional shipping fees. This is indicated on each product page and in your order details page before completing your purchase. View our full shipping policy\n",
            "Do I have to register for a Michaels.com account to place an online order?\n",
            " No. You have the option to check out as a guest; creating an account is optional. Signing up for a Michaels.com account is a convenient way to keep track of your order history, and favorite products. A Michaels.com account is required to link any Rewards information online. \n",
            " \n",
            "When will my order be charged?\n",
            "A pending authorization will appear on your online statement when the order is placed. Items will be charged or posted when they are ready for pickup in store or when they are shipped. You may see multiple charges if your order is split into multiple shipments or delivery methods.\n",
            "Can I shop Online through your App?\n",
            "Yes! If you are experiencing issues, please ensure you have the most updated version of the app installed.\n",
            "Can I change the shipping location on my order?\n",
            "No. We are not able to edit the shipping address on completed orders.\n",
            "Do you refund shipping charges for returns?\n",
            "We offer refunds on shipping charges for damaged or lost shipments.\n",
            "Why was my order canceled?\n",
            "Orders may be cancelled due to product availability or because we are unable to successfully process the payment. For store pickup or curbside orders, the order may also be cancelled if it isn’t picked up within 5 business days.\n",
            "Call us at 1-800-MICHAELS\n",
            "Click to start chatting\n",
            "Get the latest on trends, best deals and exclusive offers!\n",
            "Resources\n",
            "Product Recalls\n",
            "Product Policy\n",
            "Shipping Policy\n",
            "Return Policy\n",
            "Coupon Policy and Price Guarantee\n",
            "Terms and Conditions\n",
            "Your Privacy Rights\n",
            "CA Consumer Privacy Act\n",
            "CA Transparency in Supply Chains Act\n",
            "Site Map\n",
            "Customer Care\n",
            "Help and FAQs\n",
            "Track My Order\n",
            "Store Locator\n",
            "Accessibility Statement\n",
            "About Us\n",
            "Inclusion and Diversity\n",
            "Michaels Gives Back\n",
            "Work at Michaels\n",
            "Newsroom\n",
            "Sustainability\n",
            "Michaels Canada\n",
            "Services\n",
            "Michaels Rewards\n",
            "Michaels Pro\n",
            "Michaels Credit Card\n",
            "Curbside Pickup\n",
            "Same Day Delivery\n",
            "Download Our App\n",
            "Teacher Discount\n",
            "Military Discount\n",
            "Senior Discount\n",
            "Tax Exempt\n",
            "Affiliate Program\n",
            "Marketplace\n",
            "Resources\n",
            "Product Recalls\n",
            "Product Policy\n",
            "Shipping Policy\n",
            "Return Policy\n",
            "Coupon Policy and Price Guarantee\n",
            "Terms and Conditions\n",
            "Your Privacy Rights\n",
            "CA Consumer Privacy Act\n",
            "CA Transparency in Supply Chains Act\n",
            "Site Map\n",
            "Customer Care\n",
            "Help and FAQs\n",
            "Track My Order\n",
            "Store Locator\n",
            "Accessibility Statement\n",
            "About Us\n",
            "Inclusion and Diversity\n",
            "Michaels Gives Back\n",
            "Work at Michaels\n",
            "Newsroom\n",
            "Sustainability\n",
            "Michaels Canada\n",
            "Services\n",
            "Michaels Rewards\n",
            "Michaels Pro\n",
            "Michaels Credit Card\n",
            "Curbside Pickup\n",
            "Same Day Delivery\n",
            "Download Our App\n",
            "Teacher Discount\n",
            "Military Discount\n",
            "Senior Discount\n",
            "Tax Exempt\n",
            "Affiliate Program\n",
            "Marketplace\n",
            "© 2023 Michaels Stores. All rights reserved.\n"
          ]
        }
      ]
    },
    {
      "cell_type": "markdown",
      "source": [
        "Open Door"
      ],
      "metadata": {
        "id": "GYU9YTfawvOK"
      }
    },
    {
      "cell_type": "code",
      "source": [
        "page_to_scrape = requests.get(\"https://www.opendoor.com/w/faq\")"
      ],
      "metadata": {
        "id": "GG6PbE6Vwwrr"
      },
      "execution_count": 35,
      "outputs": []
    },
    {
      "cell_type": "code",
      "source": [
        "soup = BeautifulSoup(page_to_scrape.text, \"html.parser\")"
      ],
      "metadata": {
        "id": "5IDVhfWNwwwg"
      },
      "execution_count": 36,
      "outputs": []
    },
    {
      "cell_type": "code",
      "source": [
        "questions = soup.findAll(\"h6\", attrs={\"class\": \"article-title\"})"
      ],
      "metadata": {
        "id": "4f_k89DIww3J"
      },
      "execution_count": 37,
      "outputs": []
    },
    {
      "cell_type": "code",
      "source": [
        "for question in questions:\n",
        "  print(question.text)"
      ],
      "metadata": {
        "colab": {
          "base_uri": "https://localhost:8080/"
        },
        "id": "O-9B3IdOww6s",
        "outputId": "cd163ca8-cd01-4667-d5ad-711571342678"
      },
      "execution_count": 38,
      "outputs": [
        {
          "output_type": "stream",
          "name": "stdout",
          "text": [
            "Is Opendoor a home flipper?\n",
            "In what cities does Opendoor buy and sell homes?\n",
            "What types of homes does Opendoor purchase?\n",
            "How does the closing process work when you sell to Opendoor?\n",
            "Can I sell to Opendoor if I’m already working with an agent?\n",
            "How do I request a cash offer from Opendoor?\n",
            "How do I visit a home with Opendoor?\n",
            "How does buying from Opendoor work?\n",
            "Can I use my own agent to buy with Opendoor?\n",
            "I’m ready to put in an offer on a home. What’s next?\n",
            "I need to buy and sell at the same time. Can I do that with Opendoor?\n",
            "I’m an agent. How do I work with Opendoor?\n",
            "Will I still get a commission when I work with Opendoor?\n",
            "As an agent, how do I get into an Opendoor home? You don’t use lockboxes.\n",
            "My client wants to buy an Opendoor home. What’s next?\n",
            "How do I get started with the Agent Access Loyalty Program?\n"
          ]
        }
      ]
    },
    {
      "cell_type": "code",
      "source": [
        "answers = soup.findAll(\"span\", attrs={\"class\": \"author- \"})"
      ],
      "metadata": {
        "id": "lKpzl9mGOczA"
      },
      "execution_count": 62,
      "outputs": []
    },
    {
      "cell_type": "code",
      "source": [
        "for answer in answers:\n",
        "  print(answer.text)"
      ],
      "metadata": {
        "id": "yZLlHTT2Obb8"
      },
      "execution_count": 63,
      "outputs": []
    },
    {
      "cell_type": "code",
      "source": [],
      "metadata": {
        "id": "-uTUmoWyObjM"
      },
      "execution_count": 16,
      "outputs": []
    },
    {
      "cell_type": "code",
      "source": [],
      "metadata": {
        "id": "YJRBeiqyObri"
      },
      "execution_count": 16,
      "outputs": []
    },
    {
      "cell_type": "code",
      "source": [],
      "metadata": {
        "id": "BUkheD-vDKOL"
      },
      "execution_count": 16,
      "outputs": []
    },
    {
      "cell_type": "markdown",
      "source": [
        "## Pillsbury "
      ],
      "metadata": {
        "id": "7ynbuv0-lGsP"
      }
    },
    {
      "cell_type": "code",
      "source": [
        "page_to_scrape = requests.get(\"https://www.pillsburybaking.com/frequently-asked-questions/\")"
      ],
      "metadata": {
        "id": "PfitAkhJlFwp"
      },
      "execution_count": 17,
      "outputs": []
    },
    {
      "cell_type": "code",
      "source": [
        "soup = BeautifulSoup(page_to_scrape.text, \"html.parser\")"
      ],
      "metadata": {
        "id": "lvGjCElWlFzx"
      },
      "execution_count": 18,
      "outputs": []
    },
    {
      "cell_type": "code",
      "source": [
        "questions = soup.findAll(\"h3\", attrs={\"class\":\"title\"})\n"
      ],
      "metadata": {
        "id": "UMYYqoiElF2R"
      },
      "execution_count": 19,
      "outputs": []
    },
    {
      "cell_type": "code",
      "source": [
        "answers = soup.find_all(\"div\",attrs={\"class\":\"<p>\"})"
      ],
      "metadata": {
        "id": "ryn2bLmBmdbB"
      },
      "execution_count": 20,
      "outputs": []
    },
    {
      "cell_type": "code",
      "source": [
        "for question in questions:\n",
        "  print(question.text)\n",
        "for answer in answers:\n",
        "  print(answer.text)"
      ],
      "metadata": {
        "id": "pFrARLBAlF5A"
      },
      "execution_count": 21,
      "outputs": []
    },
    {
      "cell_type": "markdown",
      "source": [
        "World Wildlife Federation\n"
      ],
      "metadata": {
        "id": "Rcelwlfir6WC"
      }
    },
    {
      "cell_type": "code",
      "source": [
        "page_to_scrape = requests.get(\"https://www.wwf.org.uk/faqs\")"
      ],
      "metadata": {
        "id": "_HBfD3KFlGLR"
      },
      "execution_count": 22,
      "outputs": []
    },
    {
      "cell_type": "code",
      "source": [
        "soup = BeautifulSoup(page_to_scrape.text, \"html.parser\")"
      ],
      "metadata": {
        "id": "QlI971TFr4B9"
      },
      "execution_count": 23,
      "outputs": []
    },
    {
      "cell_type": "code",
      "source": [
        "questions = soup.findAll(\"h3\", attrs={\"class\":\"faqfield-question\"})"
      ],
      "metadata": {
        "id": "hbMBDcOwsOQ_"
      },
      "execution_count": 24,
      "outputs": []
    },
    {
      "cell_type": "code",
      "source": [
        "for question in questions:\n",
        "  print(question.text)"
      ],
      "metadata": {
        "colab": {
          "base_uri": "https://localhost:8080/"
        },
        "id": "1YQMSyFPsbIH",
        "outputId": "93685bd4-5f25-4ca1-d64d-4504000b536a"
      },
      "execution_count": 25,
      "outputs": [
        {
          "output_type": "stream",
          "name": "stdout",
          "text": [
            "What is a species adoption and what do I get?\n",
            "How do I set up an adoption?\n",
            "How long will my adoption last for?\n",
            "What are my payment options?\n",
            "How long will my welcome pack take to arrive?\n",
            "What species can I adopt?\n",
            "How is my adoption money spent?\n",
            "How can I renew my adoption?\n",
            "How do I update my personal details, bank details or contact preferences with you?\n",
            "Can I change the delivery address for my adoption pack after I’ve placed my order?\n",
            "I haven’t received my adoption welcome pack. What should I do?\n",
            "My pack doesn't contain a certificate\n",
            "My adoption is a gift but won’t arrive on time. What can I do?\n",
            "What is your refund policy?\n",
            "Why have you introduced under 12 adoption updates?\n",
            "Can I change the adoption updates I receive?\n",
            "Why have you stopped the Lion & Dolphin adoptions? \n",
            "Are Lions & Dolphins not endangered anymore?\n",
            "Are you still supporting Lions & Dolphins? \n",
            "What is a WWF-UK membership and what do I get?\n",
            "How do I become a member of WWF-UK?\n",
            "How long will my membership last for?\n",
            "What are my payment options?\n",
            "How quickly will I receive my membership pack?\n",
            "How long will my membership welcome pack take to arrive?\n",
            "How is my membership money spent?\n",
            "How can I renew my membership?\n",
            "How do I update my personal details, bank details or contact preferences with you?\n",
            "How do gifts in Wills help WWF?\n",
            "How do I leave a gift in my Will to WWF?\n",
            "What are your registered details?\n",
            "What type of gift can I leave?\n",
            "Is there a minimum amount I need to be able to donate to include WWF in my Will?\n",
            "Can I leave a gift to a specific area of work?\n",
            "Why is it important to have a Will?\n",
            "How can I change my existing Will to include a gift to WWF?\n",
            "How can I make a donation in memory?\n",
            "Will you acknowledge receipt of donation to us?\n",
            "What is a WWF Tribute Fund?\n",
            "Can I request resources for a collection?\n",
            "Can I request for my donation to go to a particular area of your work?\n",
            "I’d like to set up an adoption or membership in memory, how can I do this?\n",
            "Can I take part in events in memory?\n",
            "We are Funeral Directors and have collected donations – will you send the acknowledgement to us or the Next of Kin?\n",
            "How can I ensure that I don't receive telephone calls from WWF?\n",
            "Why do WWF use the telephone to fundraise?\n",
            "Why do WWF use the telephone to fundraise?\n",
            "Can I make a one-off donation to WWF?\n",
            "What is the Direct Debit Guarantee?\n",
            "What date will my Direct Debit be claimed?\n",
            "Why do you prefer people to make regular gifts by Direct Debit?\n",
            "I would like to change my Direct Debit to be taken from my account on a date of my choice. How do I do this?\n",
            "I pay by Direct Debit and my bank account has changed. How do I update my account details with you?\n",
            "Can I support you from overseas by Direct Debit?\n",
            "I want to change the amount of my Direct Debit payments, how do I do this?\n",
            "I need to cancel my Direct Debit as my circumstances have changed. How do I do this?\n",
            "Why can't I set up a recurring card payment?\n",
            "Why do WWF use fundraisers?\n",
            "How does WWF pay its fundraisers?\n",
            "Are the police and councils aware of WWF's fundraisers?\n",
            "When I sign up via a fundraiser, do my donations go direct to WWF?\n",
            "What time of day/night are fundraisers allowed to approach me?\n",
            "How do I know if a fundraiser is genuine?\n",
            "Do WWF fundraisers operate in No Cold Calling Zones?\n",
            "How does WWF ensure that vulnerable people aren't targeted by fundraisers?\n",
            "Is the information that I give to a fundraiser secure?\n",
            "What is Gift Aid and how can I register?\n",
            "I need to cancel my Gift Aid Declaration as I am no longer a UK taxpayer. How do I do this?\n",
            "When was WWF founded?\n",
            "Who is WWF-UK's president?\n",
            "Where is WWF-UK?\n",
            "What is WWF-UK's registered charity number?\n",
            "Does WWF work on animal welfare issues?\n",
            "How does WWF-UK work with the corporate sector?\n",
            "How is WWF regulated?\n",
            "How is WWF governed?\n"
          ]
        }
      ]
    },
    {
      "cell_type": "code",
      "source": [],
      "metadata": {
        "id": "mCj_Ina_r4kL"
      },
      "execution_count": 25,
      "outputs": []
    },
    {
      "cell_type": "markdown",
      "source": [
        "## Attempt real site"
      ],
      "metadata": {
        "id": "4j2lQ_KhSxia"
      }
    },
    {
      "cell_type": "code",
      "source": [
        "# Make a request to the website\n",
        "url = \"https://www.pillsburybaking.com/frequently-asked-questions/\"\n",
        "response = requests.get(url)\n",
        "soup = BeautifulSoup(response.content, \"html.parser\")\n",
        "\n"
      ],
      "metadata": {
        "id": "AppQYK_RNBNJ"
      },
      "execution_count": 66,
      "outputs": []
    },
    {
      "cell_type": "code",
      "source": [
        "\n",
        "# Find the FAQs by searching for specific HTML tags\n",
        "# For example, you can search for questions and answers using <h2> and <p> tags\n",
        "faqs = []\n",
        "questions = soup.find_all(\"h3\", attrs ={\"class\":\"title mid-headline\"})\n",
        "for question in questions:\n",
        "  print(question.text)\n",
        "\n"
      ],
      "metadata": {
        "id": "y0unV__oNvI5"
      },
      "execution_count": 67,
      "outputs": []
    },
    {
      "cell_type": "code",
      "source": [
        "\n",
        "# Parse the HTML content\n",
        "soup = BeautifulSoup(response.content, \"html.parser\")\n"
      ],
      "metadata": {
        "id": "0xEk0BlhNs9R"
      },
      "execution_count": 27,
      "outputs": []
    },
    {
      "cell_type": "code",
      "source": [
        "\n",
        "# Extract the text from the tags\n",
        "for i in range(len(questions)):\n",
        "    question = questions[i].text\n",
        "    answer = answers[i].text\n",
        "    faqs.append((question, answer))"
      ],
      "metadata": {
        "id": "m4FwjFwtNxNf"
      },
      "execution_count": 29,
      "outputs": []
    },
    {
      "cell_type": "code",
      "source": [
        "\n",
        "# Print the FAQs\n",
        "for faq in faqs:\n",
        "    print(\"Questions:\", faq[0])\n",
        "    print(\"Answers:\", faq[1], \"\\n\")"
      ],
      "metadata": {
        "id": "taPgtG5CH5J9"
      },
      "execution_count": 30,
      "outputs": []
    }
  ]
}