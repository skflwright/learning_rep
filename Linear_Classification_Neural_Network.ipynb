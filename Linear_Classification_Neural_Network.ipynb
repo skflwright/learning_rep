{
  "nbformat": 4,
  "nbformat_minor": 0,
  "metadata": {
    "colab": {
      "provenance": []
    },
    "kernelspec": {
      "name": "python3",
      "display_name": "Python 3"
    },
    "language_info": {
      "name": "python"
    }
  },
  "cells": [
    {
      "cell_type": "code",
      "execution_count": null,
      "metadata": {
        "colab": {
          "base_uri": "https://localhost:8080/"
        },
        "id": "MBtmQEcShFi8",
        "outputId": "3e396ac3-e632-4ae2-aa78-70275d40f3c4"
      },
      "outputs": [
        {
          "output_type": "stream",
          "name": "stdout",
          "text": [
            "2.9.2\n"
          ]
        }
      ],
      "source": [
        "import numpy as np\n",
        "import tensorflow as tf\n",
        "from sklearn.datasets import load_breast_cancer\n",
        "from sklearn.model_selection import train_test_split\n",
        "from sklearn.preprocessing import StandardScaler\n",
        "import matplotlib.pyplot as plt\n",
        "import seaborn as sns\n",
        "sns.set()\n",
        "\n",
        "\n",
        "print(tf.__version__)"
      ]
    },
    {
      "cell_type": "code",
      "source": [
        "data = load_breast_cancer()"
      ],
      "metadata": {
        "id": "npsokBvVhV-H"
      },
      "execution_count": null,
      "outputs": []
    },
    {
      "cell_type": "code",
      "source": [
        "type(data)"
      ],
      "metadata": {
        "colab": {
          "base_uri": "https://localhost:8080/"
        },
        "id": "DhqXHf1Rh9E1",
        "outputId": "a704c507-66b8-465a-d6ff-d4ad472de344"
      },
      "execution_count": null,
      "outputs": [
        {
          "output_type": "execute_result",
          "data": {
            "text/plain": [
              "sklearn.utils.Bunch"
            ]
          },
          "metadata": {},
          "execution_count": 4
        }
      ]
    },
    {
      "cell_type": "code",
      "source": [
        "data.keys()"
      ],
      "metadata": {
        "colab": {
          "base_uri": "https://localhost:8080/"
        },
        "id": "N-rp9VQMh_u0",
        "outputId": "000adc53-48a8-4a1a-bde0-c7cf384e1554"
      },
      "execution_count": null,
      "outputs": [
        {
          "output_type": "execute_result",
          "data": {
            "text/plain": [
              "dict_keys(['data', 'target', 'frame', 'target_names', 'DESCR', 'feature_names', 'filename', 'data_module'])"
            ]
          },
          "metadata": {},
          "execution_count": 5
        }
      ]
    },
    {
      "cell_type": "code",
      "source": [
        "data.data.shape"
      ],
      "metadata": {
        "colab": {
          "base_uri": "https://localhost:8080/"
        },
        "id": "kbTGFjZ1iCic",
        "outputId": "36cee07d-8c2a-492b-f489-e731d05b1ed7"
      },
      "execution_count": null,
      "outputs": [
        {
          "output_type": "execute_result",
          "data": {
            "text/plain": [
              "(569, 30)"
            ]
          },
          "metadata": {},
          "execution_count": 6
        }
      ]
    },
    {
      "cell_type": "code",
      "source": [
        "data.target"
      ],
      "metadata": {
        "colab": {
          "base_uri": "https://localhost:8080/"
        },
        "id": "xofJFzpziD8e",
        "outputId": "c670927c-e760-4d7a-d38b-325809130cbb"
      },
      "execution_count": null,
      "outputs": [
        {
          "output_type": "execute_result",
          "data": {
            "text/plain": [
              "array([0, 0, 0, 0, 0, 0, 0, 0, 0, 0, 0, 0, 0, 0, 0, 0, 0, 0, 0, 1, 1, 1,\n",
              "       0, 0, 0, 0, 0, 0, 0, 0, 0, 0, 0, 0, 0, 0, 0, 1, 0, 0, 0, 0, 0, 0,\n",
              "       0, 0, 1, 0, 1, 1, 1, 1, 1, 0, 0, 1, 0, 0, 1, 1, 1, 1, 0, 1, 0, 0,\n",
              "       1, 1, 1, 1, 0, 1, 0, 0, 1, 0, 1, 0, 0, 1, 1, 1, 0, 0, 1, 0, 0, 0,\n",
              "       1, 1, 1, 0, 1, 1, 0, 0, 1, 1, 1, 0, 0, 1, 1, 1, 1, 0, 1, 1, 0, 1,\n",
              "       1, 1, 1, 1, 1, 1, 1, 0, 0, 0, 1, 0, 0, 1, 1, 1, 0, 0, 1, 0, 1, 0,\n",
              "       0, 1, 0, 0, 1, 1, 0, 1, 1, 0, 1, 1, 1, 1, 0, 1, 1, 1, 1, 1, 1, 1,\n",
              "       1, 1, 0, 1, 1, 1, 1, 0, 0, 1, 0, 1, 1, 0, 0, 1, 1, 0, 0, 1, 1, 1,\n",
              "       1, 0, 1, 1, 0, 0, 0, 1, 0, 1, 0, 1, 1, 1, 0, 1, 1, 0, 0, 1, 0, 0,\n",
              "       0, 0, 1, 0, 0, 0, 1, 0, 1, 0, 1, 1, 0, 1, 0, 0, 0, 0, 1, 1, 0, 0,\n",
              "       1, 1, 1, 0, 1, 1, 1, 1, 1, 0, 0, 1, 1, 0, 1, 1, 0, 0, 1, 0, 1, 1,\n",
              "       1, 1, 0, 1, 1, 1, 1, 1, 0, 1, 0, 0, 0, 0, 0, 0, 0, 0, 0, 0, 0, 0,\n",
              "       0, 0, 1, 1, 1, 1, 1, 1, 0, 1, 0, 1, 1, 0, 1, 1, 0, 1, 0, 0, 1, 1,\n",
              "       1, 1, 1, 1, 1, 1, 1, 1, 1, 1, 1, 0, 1, 1, 0, 1, 0, 1, 1, 1, 1, 1,\n",
              "       1, 1, 1, 1, 1, 1, 1, 1, 1, 0, 1, 1, 1, 0, 1, 0, 1, 1, 1, 1, 0, 0,\n",
              "       0, 1, 1, 1, 1, 0, 1, 0, 1, 0, 1, 1, 1, 0, 1, 1, 1, 1, 1, 1, 1, 0,\n",
              "       0, 0, 1, 1, 1, 1, 1, 1, 1, 1, 1, 1, 1, 0, 0, 1, 0, 0, 0, 1, 0, 0,\n",
              "       1, 1, 1, 1, 1, 0, 1, 1, 1, 1, 1, 0, 1, 1, 1, 0, 1, 1, 0, 0, 1, 1,\n",
              "       1, 1, 1, 1, 0, 1, 1, 1, 1, 1, 1, 1, 0, 1, 1, 1, 1, 1, 0, 1, 1, 0,\n",
              "       1, 1, 1, 1, 1, 1, 1, 1, 1, 1, 1, 1, 0, 1, 0, 0, 1, 0, 1, 1, 1, 1,\n",
              "       1, 0, 1, 1, 0, 1, 0, 1, 1, 0, 1, 0, 1, 1, 1, 1, 1, 1, 1, 1, 0, 0,\n",
              "       1, 1, 1, 1, 1, 1, 0, 1, 1, 1, 1, 1, 1, 1, 1, 1, 1, 0, 1, 1, 1, 1,\n",
              "       1, 1, 1, 0, 1, 0, 1, 1, 0, 1, 1, 1, 1, 1, 0, 0, 1, 0, 1, 0, 1, 1,\n",
              "       1, 1, 1, 0, 1, 1, 0, 1, 0, 1, 0, 0, 1, 1, 1, 0, 1, 1, 1, 1, 1, 1,\n",
              "       1, 1, 1, 1, 1, 0, 1, 0, 0, 1, 1, 1, 1, 1, 1, 1, 1, 1, 1, 1, 1, 1,\n",
              "       1, 1, 1, 1, 1, 1, 1, 1, 1, 1, 1, 1, 0, 0, 0, 0, 0, 0, 1])"
            ]
          },
          "metadata": {},
          "execution_count": 7
        }
      ]
    },
    {
      "cell_type": "code",
      "source": [
        "data.target_names"
      ],
      "metadata": {
        "colab": {
          "base_uri": "https://localhost:8080/"
        },
        "id": "ZcxE89dTiFem",
        "outputId": "72c473b2-c89a-40ef-ef0d-088150048b99"
      },
      "execution_count": null,
      "outputs": [
        {
          "output_type": "execute_result",
          "data": {
            "text/plain": [
              "array(['malignant', 'benign'], dtype='<U9')"
            ]
          },
          "metadata": {},
          "execution_count": 8
        }
      ]
    },
    {
      "cell_type": "code",
      "source": [
        "data.feature_names"
      ],
      "metadata": {
        "colab": {
          "base_uri": "https://localhost:8080/"
        },
        "id": "MMq0YhO5iI4G",
        "outputId": "cc7b9d0c-ee1e-4d56-8d20-9d76631ad3b6"
      },
      "execution_count": null,
      "outputs": [
        {
          "output_type": "execute_result",
          "data": {
            "text/plain": [
              "array(['mean radius', 'mean texture', 'mean perimeter', 'mean area',\n",
              "       'mean smoothness', 'mean compactness', 'mean concavity',\n",
              "       'mean concave points', 'mean symmetry', 'mean fractal dimension',\n",
              "       'radius error', 'texture error', 'perimeter error', 'area error',\n",
              "       'smoothness error', 'compactness error', 'concavity error',\n",
              "       'concave points error', 'symmetry error',\n",
              "       'fractal dimension error', 'worst radius', 'worst texture',\n",
              "       'worst perimeter', 'worst area', 'worst smoothness',\n",
              "       'worst compactness', 'worst concavity', 'worst concave points',\n",
              "       'worst symmetry', 'worst fractal dimension'], dtype='<U23')"
            ]
          },
          "metadata": {},
          "execution_count": 9
        }
      ]
    },
    {
      "cell_type": "code",
      "source": [
        "X_train, X_test, y_train, y_test = train_test_split(data.data, data.target, test_size=0.33) \n",
        "N, D = X_train.shape"
      ],
      "metadata": {
        "id": "UNyPWkgXiMiG"
      },
      "execution_count": null,
      "outputs": []
    },
    {
      "cell_type": "code",
      "source": [
        "data"
      ],
      "metadata": {
        "colab": {
          "base_uri": "https://localhost:8080/"
        },
        "id": "gC_vd_oKiXRG",
        "outputId": "41beed90-c093-4608-8c20-afcfc58e56bc"
      },
      "execution_count": null,
      "outputs": [
        {
          "output_type": "execute_result",
          "data": {
            "text/plain": [
              "{'data': array([[1.799e+01, 1.038e+01, 1.228e+02, ..., 2.654e-01, 4.601e-01,\n",
              "         1.189e-01],\n",
              "        [2.057e+01, 1.777e+01, 1.329e+02, ..., 1.860e-01, 2.750e-01,\n",
              "         8.902e-02],\n",
              "        [1.969e+01, 2.125e+01, 1.300e+02, ..., 2.430e-01, 3.613e-01,\n",
              "         8.758e-02],\n",
              "        ...,\n",
              "        [1.660e+01, 2.808e+01, 1.083e+02, ..., 1.418e-01, 2.218e-01,\n",
              "         7.820e-02],\n",
              "        [2.060e+01, 2.933e+01, 1.401e+02, ..., 2.650e-01, 4.087e-01,\n",
              "         1.240e-01],\n",
              "        [7.760e+00, 2.454e+01, 4.792e+01, ..., 0.000e+00, 2.871e-01,\n",
              "         7.039e-02]]),\n",
              " 'target': array([0, 0, 0, 0, 0, 0, 0, 0, 0, 0, 0, 0, 0, 0, 0, 0, 0, 0, 0, 1, 1, 1,\n",
              "        0, 0, 0, 0, 0, 0, 0, 0, 0, 0, 0, 0, 0, 0, 0, 1, 0, 0, 0, 0, 0, 0,\n",
              "        0, 0, 1, 0, 1, 1, 1, 1, 1, 0, 0, 1, 0, 0, 1, 1, 1, 1, 0, 1, 0, 0,\n",
              "        1, 1, 1, 1, 0, 1, 0, 0, 1, 0, 1, 0, 0, 1, 1, 1, 0, 0, 1, 0, 0, 0,\n",
              "        1, 1, 1, 0, 1, 1, 0, 0, 1, 1, 1, 0, 0, 1, 1, 1, 1, 0, 1, 1, 0, 1,\n",
              "        1, 1, 1, 1, 1, 1, 1, 0, 0, 0, 1, 0, 0, 1, 1, 1, 0, 0, 1, 0, 1, 0,\n",
              "        0, 1, 0, 0, 1, 1, 0, 1, 1, 0, 1, 1, 1, 1, 0, 1, 1, 1, 1, 1, 1, 1,\n",
              "        1, 1, 0, 1, 1, 1, 1, 0, 0, 1, 0, 1, 1, 0, 0, 1, 1, 0, 0, 1, 1, 1,\n",
              "        1, 0, 1, 1, 0, 0, 0, 1, 0, 1, 0, 1, 1, 1, 0, 1, 1, 0, 0, 1, 0, 0,\n",
              "        0, 0, 1, 0, 0, 0, 1, 0, 1, 0, 1, 1, 0, 1, 0, 0, 0, 0, 1, 1, 0, 0,\n",
              "        1, 1, 1, 0, 1, 1, 1, 1, 1, 0, 0, 1, 1, 0, 1, 1, 0, 0, 1, 0, 1, 1,\n",
              "        1, 1, 0, 1, 1, 1, 1, 1, 0, 1, 0, 0, 0, 0, 0, 0, 0, 0, 0, 0, 0, 0,\n",
              "        0, 0, 1, 1, 1, 1, 1, 1, 0, 1, 0, 1, 1, 0, 1, 1, 0, 1, 0, 0, 1, 1,\n",
              "        1, 1, 1, 1, 1, 1, 1, 1, 1, 1, 1, 0, 1, 1, 0, 1, 0, 1, 1, 1, 1, 1,\n",
              "        1, 1, 1, 1, 1, 1, 1, 1, 1, 0, 1, 1, 1, 0, 1, 0, 1, 1, 1, 1, 0, 0,\n",
              "        0, 1, 1, 1, 1, 0, 1, 0, 1, 0, 1, 1, 1, 0, 1, 1, 1, 1, 1, 1, 1, 0,\n",
              "        0, 0, 1, 1, 1, 1, 1, 1, 1, 1, 1, 1, 1, 0, 0, 1, 0, 0, 0, 1, 0, 0,\n",
              "        1, 1, 1, 1, 1, 0, 1, 1, 1, 1, 1, 0, 1, 1, 1, 0, 1, 1, 0, 0, 1, 1,\n",
              "        1, 1, 1, 1, 0, 1, 1, 1, 1, 1, 1, 1, 0, 1, 1, 1, 1, 1, 0, 1, 1, 0,\n",
              "        1, 1, 1, 1, 1, 1, 1, 1, 1, 1, 1, 1, 0, 1, 0, 0, 1, 0, 1, 1, 1, 1,\n",
              "        1, 0, 1, 1, 0, 1, 0, 1, 1, 0, 1, 0, 1, 1, 1, 1, 1, 1, 1, 1, 0, 0,\n",
              "        1, 1, 1, 1, 1, 1, 0, 1, 1, 1, 1, 1, 1, 1, 1, 1, 1, 0, 1, 1, 1, 1,\n",
              "        1, 1, 1, 0, 1, 0, 1, 1, 0, 1, 1, 1, 1, 1, 0, 0, 1, 0, 1, 0, 1, 1,\n",
              "        1, 1, 1, 0, 1, 1, 0, 1, 0, 1, 0, 0, 1, 1, 1, 0, 1, 1, 1, 1, 1, 1,\n",
              "        1, 1, 1, 1, 1, 0, 1, 0, 0, 1, 1, 1, 1, 1, 1, 1, 1, 1, 1, 1, 1, 1,\n",
              "        1, 1, 1, 1, 1, 1, 1, 1, 1, 1, 1, 1, 0, 0, 0, 0, 0, 0, 1]),\n",
              " 'frame': None,\n",
              " 'target_names': array(['malignant', 'benign'], dtype='<U9'),\n",
              " 'DESCR': '.. _breast_cancer_dataset:\\n\\nBreast cancer wisconsin (diagnostic) dataset\\n--------------------------------------------\\n\\n**Data Set Characteristics:**\\n\\n    :Number of Instances: 569\\n\\n    :Number of Attributes: 30 numeric, predictive attributes and the class\\n\\n    :Attribute Information:\\n        - radius (mean of distances from center to points on the perimeter)\\n        - texture (standard deviation of gray-scale values)\\n        - perimeter\\n        - area\\n        - smoothness (local variation in radius lengths)\\n        - compactness (perimeter^2 / area - 1.0)\\n        - concavity (severity of concave portions of the contour)\\n        - concave points (number of concave portions of the contour)\\n        - symmetry\\n        - fractal dimension (\"coastline approximation\" - 1)\\n\\n        The mean, standard error, and \"worst\" or largest (mean of the three\\n        worst/largest values) of these features were computed for each image,\\n        resulting in 30 features.  For instance, field 0 is Mean Radius, field\\n        10 is Radius SE, field 20 is Worst Radius.\\n\\n        - class:\\n                - WDBC-Malignant\\n                - WDBC-Benign\\n\\n    :Summary Statistics:\\n\\n    ===================================== ====== ======\\n                                           Min    Max\\n    ===================================== ====== ======\\n    radius (mean):                        6.981  28.11\\n    texture (mean):                       9.71   39.28\\n    perimeter (mean):                     43.79  188.5\\n    area (mean):                          143.5  2501.0\\n    smoothness (mean):                    0.053  0.163\\n    compactness (mean):                   0.019  0.345\\n    concavity (mean):                     0.0    0.427\\n    concave points (mean):                0.0    0.201\\n    symmetry (mean):                      0.106  0.304\\n    fractal dimension (mean):             0.05   0.097\\n    radius (standard error):              0.112  2.873\\n    texture (standard error):             0.36   4.885\\n    perimeter (standard error):           0.757  21.98\\n    area (standard error):                6.802  542.2\\n    smoothness (standard error):          0.002  0.031\\n    compactness (standard error):         0.002  0.135\\n    concavity (standard error):           0.0    0.396\\n    concave points (standard error):      0.0    0.053\\n    symmetry (standard error):            0.008  0.079\\n    fractal dimension (standard error):   0.001  0.03\\n    radius (worst):                       7.93   36.04\\n    texture (worst):                      12.02  49.54\\n    perimeter (worst):                    50.41  251.2\\n    area (worst):                         185.2  4254.0\\n    smoothness (worst):                   0.071  0.223\\n    compactness (worst):                  0.027  1.058\\n    concavity (worst):                    0.0    1.252\\n    concave points (worst):               0.0    0.291\\n    symmetry (worst):                     0.156  0.664\\n    fractal dimension (worst):            0.055  0.208\\n    ===================================== ====== ======\\n\\n    :Missing Attribute Values: None\\n\\n    :Class Distribution: 212 - Malignant, 357 - Benign\\n\\n    :Creator:  Dr. William H. Wolberg, W. Nick Street, Olvi L. Mangasarian\\n\\n    :Donor: Nick Street\\n\\n    :Date: November, 1995\\n\\nThis is a copy of UCI ML Breast Cancer Wisconsin (Diagnostic) datasets.\\nhttps://goo.gl/U2Uwz2\\n\\nFeatures are computed from a digitized image of a fine needle\\naspirate (FNA) of a breast mass.  They describe\\ncharacteristics of the cell nuclei present in the image.\\n\\nSeparating plane described above was obtained using\\nMultisurface Method-Tree (MSM-T) [K. P. Bennett, \"Decision Tree\\nConstruction Via Linear Programming.\" Proceedings of the 4th\\nMidwest Artificial Intelligence and Cognitive Science Society,\\npp. 97-101, 1992], a classification method which uses linear\\nprogramming to construct a decision tree.  Relevant features\\nwere selected using an exhaustive search in the space of 1-4\\nfeatures and 1-3 separating planes.\\n\\nThe actual linear program used to obtain the separating plane\\nin the 3-dimensional space is that described in:\\n[K. P. Bennett and O. L. Mangasarian: \"Robust Linear\\nProgramming Discrimination of Two Linearly Inseparable Sets\",\\nOptimization Methods and Software 1, 1992, 23-34].\\n\\nThis database is also available through the UW CS ftp server:\\n\\nftp ftp.cs.wisc.edu\\ncd math-prog/cpo-dataset/machine-learn/WDBC/\\n\\n.. topic:: References\\n\\n   - W.N. Street, W.H. Wolberg and O.L. Mangasarian. Nuclear feature extraction \\n     for breast tumor diagnosis. IS&T/SPIE 1993 International Symposium on \\n     Electronic Imaging: Science and Technology, volume 1905, pages 861-870,\\n     San Jose, CA, 1993.\\n   - O.L. Mangasarian, W.N. Street and W.H. Wolberg. Breast cancer diagnosis and \\n     prognosis via linear programming. Operations Research, 43(4), pages 570-577, \\n     July-August 1995.\\n   - W.H. Wolberg, W.N. Street, and O.L. Mangasarian. Machine learning techniques\\n     to diagnose breast cancer from fine-needle aspirates. Cancer Letters 77 (1994) \\n     163-171.',\n",
              " 'feature_names': array(['mean radius', 'mean texture', 'mean perimeter', 'mean area',\n",
              "        'mean smoothness', 'mean compactness', 'mean concavity',\n",
              "        'mean concave points', 'mean symmetry', 'mean fractal dimension',\n",
              "        'radius error', 'texture error', 'perimeter error', 'area error',\n",
              "        'smoothness error', 'compactness error', 'concavity error',\n",
              "        'concave points error', 'symmetry error',\n",
              "        'fractal dimension error', 'worst radius', 'worst texture',\n",
              "        'worst perimeter', 'worst area', 'worst smoothness',\n",
              "        'worst compactness', 'worst concavity', 'worst concave points',\n",
              "        'worst symmetry', 'worst fractal dimension'], dtype='<U23'),\n",
              " 'filename': 'breast_cancer.csv',\n",
              " 'data_module': 'sklearn.datasets.data'}"
            ]
          },
          "metadata": {},
          "execution_count": 11
        }
      ]
    },
    {
      "cell_type": "code",
      "source": [
        "scaler = StandardScaler()\n",
        "X_train = scaler.fit_transform(X_train)\n",
        "X_test = scaler.transform(X_test)"
      ],
      "metadata": {
        "id": "BeKxFkCYiZo9"
      },
      "execution_count": null,
      "outputs": []
    },
    {
      "cell_type": "code",
      "source": [
        "model = tf.keras.models.Sequential([\n",
        "                              tf.keras.layers.Input(shape=(D,)),\n",
        "                              tf.keras.layers.Dense(1, activation='sigmoid')])"
      ],
      "metadata": {
        "id": "B5falh-DixN2"
      },
      "execution_count": null,
      "outputs": []
    },
    {
      "cell_type": "code",
      "source": [
        "model.compile(optimizer = 'adam', loss = 'binary_crossentropy', metrics = ['accuracy'])"
      ],
      "metadata": {
        "id": "0xIjRgC2kAX1"
      },
      "execution_count": null,
      "outputs": []
    },
    {
      "cell_type": "code",
      "source": [
        "trained_model = model.fit(X_train, y_train, validation_data=(X_test, y_test), epochs = 100)"
      ],
      "metadata": {
        "colab": {
          "base_uri": "https://localhost:8080/"
        },
        "id": "uYXDkhkUlvwE",
        "outputId": "303e0b3a-3fd3-43e1-ccd6-85d31f7ec381"
      },
      "execution_count": null,
      "outputs": [
        {
          "output_type": "stream",
          "name": "stdout",
          "text": [
            "Epoch 1/100\n",
            "12/12 [==============================] - 1s 23ms/step - loss: 0.5198 - accuracy: 0.7454 - val_loss: 0.5343 - val_accuracy: 0.7287\n",
            "Epoch 2/100\n",
            "12/12 [==============================] - 0s 6ms/step - loss: 0.4748 - accuracy: 0.8136 - val_loss: 0.4927 - val_accuracy: 0.7872\n",
            "Epoch 3/100\n",
            "12/12 [==============================] - 0s 6ms/step - loss: 0.4369 - accuracy: 0.8399 - val_loss: 0.4576 - val_accuracy: 0.8085\n",
            "Epoch 4/100\n",
            "12/12 [==============================] - 0s 6ms/step - loss: 0.4046 - accuracy: 0.8609 - val_loss: 0.4280 - val_accuracy: 0.8511\n",
            "Epoch 5/100\n",
            "12/12 [==============================] - 0s 6ms/step - loss: 0.3769 - accuracy: 0.8766 - val_loss: 0.4029 - val_accuracy: 0.8564\n",
            "Epoch 6/100\n",
            "12/12 [==============================] - 0s 5ms/step - loss: 0.3534 - accuracy: 0.8898 - val_loss: 0.3811 - val_accuracy: 0.8564\n",
            "Epoch 7/100\n",
            "12/12 [==============================] - 0s 5ms/step - loss: 0.3330 - accuracy: 0.8950 - val_loss: 0.3620 - val_accuracy: 0.8670\n",
            "Epoch 8/100\n",
            "12/12 [==============================] - 0s 5ms/step - loss: 0.3151 - accuracy: 0.9003 - val_loss: 0.3448 - val_accuracy: 0.8830\n",
            "Epoch 9/100\n",
            "12/12 [==============================] - 0s 4ms/step - loss: 0.2991 - accuracy: 0.9108 - val_loss: 0.3297 - val_accuracy: 0.8883\n",
            "Epoch 10/100\n",
            "12/12 [==============================] - 0s 5ms/step - loss: 0.2847 - accuracy: 0.9186 - val_loss: 0.3163 - val_accuracy: 0.8883\n",
            "Epoch 11/100\n",
            "12/12 [==============================] - 0s 5ms/step - loss: 0.2719 - accuracy: 0.9291 - val_loss: 0.3041 - val_accuracy: 0.8883\n",
            "Epoch 12/100\n",
            "12/12 [==============================] - 0s 7ms/step - loss: 0.2601 - accuracy: 0.9344 - val_loss: 0.2928 - val_accuracy: 0.8936\n",
            "Epoch 13/100\n",
            "12/12 [==============================] - 0s 7ms/step - loss: 0.2495 - accuracy: 0.9370 - val_loss: 0.2825 - val_accuracy: 0.8989\n",
            "Epoch 14/100\n",
            "12/12 [==============================] - 0s 5ms/step - loss: 0.2395 - accuracy: 0.9396 - val_loss: 0.2735 - val_accuracy: 0.8989\n",
            "Epoch 15/100\n",
            "12/12 [==============================] - 0s 5ms/step - loss: 0.2307 - accuracy: 0.9396 - val_loss: 0.2648 - val_accuracy: 0.9043\n",
            "Epoch 16/100\n",
            "12/12 [==============================] - 0s 5ms/step - loss: 0.2227 - accuracy: 0.9423 - val_loss: 0.2566 - val_accuracy: 0.9149\n",
            "Epoch 17/100\n",
            "12/12 [==============================] - 0s 6ms/step - loss: 0.2147 - accuracy: 0.9423 - val_loss: 0.2494 - val_accuracy: 0.9149\n",
            "Epoch 18/100\n",
            "12/12 [==============================] - 0s 5ms/step - loss: 0.2075 - accuracy: 0.9423 - val_loss: 0.2429 - val_accuracy: 0.9149\n",
            "Epoch 19/100\n",
            "12/12 [==============================] - 0s 5ms/step - loss: 0.2010 - accuracy: 0.9423 - val_loss: 0.2368 - val_accuracy: 0.9149\n",
            "Epoch 20/100\n",
            "12/12 [==============================] - 0s 6ms/step - loss: 0.1949 - accuracy: 0.9449 - val_loss: 0.2312 - val_accuracy: 0.9149\n",
            "Epoch 21/100\n",
            "12/12 [==============================] - 0s 7ms/step - loss: 0.1893 - accuracy: 0.9475 - val_loss: 0.2254 - val_accuracy: 0.9149\n",
            "Epoch 22/100\n",
            "12/12 [==============================] - 0s 5ms/step - loss: 0.1838 - accuracy: 0.9528 - val_loss: 0.2203 - val_accuracy: 0.9202\n",
            "Epoch 23/100\n",
            "12/12 [==============================] - 0s 5ms/step - loss: 0.1786 - accuracy: 0.9528 - val_loss: 0.2156 - val_accuracy: 0.9202\n",
            "Epoch 24/100\n",
            "12/12 [==============================] - 0s 5ms/step - loss: 0.1739 - accuracy: 0.9528 - val_loss: 0.2110 - val_accuracy: 0.9309\n",
            "Epoch 25/100\n",
            "12/12 [==============================] - 0s 6ms/step - loss: 0.1693 - accuracy: 0.9528 - val_loss: 0.2069 - val_accuracy: 0.9309\n",
            "Epoch 26/100\n",
            "12/12 [==============================] - 0s 7ms/step - loss: 0.1651 - accuracy: 0.9554 - val_loss: 0.2029 - val_accuracy: 0.9309\n",
            "Epoch 27/100\n",
            "12/12 [==============================] - 0s 7ms/step - loss: 0.1613 - accuracy: 0.9554 - val_loss: 0.1990 - val_accuracy: 0.9309\n",
            "Epoch 28/100\n",
            "12/12 [==============================] - 0s 6ms/step - loss: 0.1572 - accuracy: 0.9554 - val_loss: 0.1955 - val_accuracy: 0.9309\n",
            "Epoch 29/100\n",
            "12/12 [==============================] - 0s 7ms/step - loss: 0.1537 - accuracy: 0.9554 - val_loss: 0.1922 - val_accuracy: 0.9309\n",
            "Epoch 30/100\n",
            "12/12 [==============================] - 0s 8ms/step - loss: 0.1503 - accuracy: 0.9580 - val_loss: 0.1890 - val_accuracy: 0.9309\n",
            "Epoch 31/100\n",
            "12/12 [==============================] - 0s 7ms/step - loss: 0.1471 - accuracy: 0.9606 - val_loss: 0.1859 - val_accuracy: 0.9309\n",
            "Epoch 32/100\n",
            "12/12 [==============================] - 0s 8ms/step - loss: 0.1440 - accuracy: 0.9606 - val_loss: 0.1829 - val_accuracy: 0.9362\n",
            "Epoch 33/100\n",
            "12/12 [==============================] - 0s 7ms/step - loss: 0.1410 - accuracy: 0.9606 - val_loss: 0.1802 - val_accuracy: 0.9309\n",
            "Epoch 34/100\n",
            "12/12 [==============================] - 0s 7ms/step - loss: 0.1382 - accuracy: 0.9633 - val_loss: 0.1776 - val_accuracy: 0.9309\n",
            "Epoch 35/100\n",
            "12/12 [==============================] - 0s 7ms/step - loss: 0.1356 - accuracy: 0.9633 - val_loss: 0.1750 - val_accuracy: 0.9415\n",
            "Epoch 36/100\n",
            "12/12 [==============================] - 0s 8ms/step - loss: 0.1330 - accuracy: 0.9659 - val_loss: 0.1728 - val_accuracy: 0.9415\n",
            "Epoch 37/100\n",
            "12/12 [==============================] - 0s 8ms/step - loss: 0.1308 - accuracy: 0.9659 - val_loss: 0.1704 - val_accuracy: 0.9468\n",
            "Epoch 38/100\n",
            "12/12 [==============================] - 0s 6ms/step - loss: 0.1282 - accuracy: 0.9659 - val_loss: 0.1684 - val_accuracy: 0.9468\n",
            "Epoch 39/100\n",
            "12/12 [==============================] - 0s 6ms/step - loss: 0.1260 - accuracy: 0.9659 - val_loss: 0.1664 - val_accuracy: 0.9468\n",
            "Epoch 40/100\n",
            "12/12 [==============================] - 0s 7ms/step - loss: 0.1240 - accuracy: 0.9659 - val_loss: 0.1643 - val_accuracy: 0.9468\n",
            "Epoch 41/100\n",
            "12/12 [==============================] - 0s 6ms/step - loss: 0.1219 - accuracy: 0.9659 - val_loss: 0.1625 - val_accuracy: 0.9468\n",
            "Epoch 42/100\n",
            "12/12 [==============================] - 0s 6ms/step - loss: 0.1200 - accuracy: 0.9659 - val_loss: 0.1608 - val_accuracy: 0.9521\n",
            "Epoch 43/100\n",
            "12/12 [==============================] - 0s 7ms/step - loss: 0.1181 - accuracy: 0.9659 - val_loss: 0.1590 - val_accuracy: 0.9521\n",
            "Epoch 44/100\n",
            "12/12 [==============================] - 0s 6ms/step - loss: 0.1163 - accuracy: 0.9659 - val_loss: 0.1573 - val_accuracy: 0.9521\n",
            "Epoch 45/100\n",
            "12/12 [==============================] - 0s 5ms/step - loss: 0.1146 - accuracy: 0.9659 - val_loss: 0.1556 - val_accuracy: 0.9521\n",
            "Epoch 46/100\n",
            "12/12 [==============================] - 0s 6ms/step - loss: 0.1131 - accuracy: 0.9659 - val_loss: 0.1540 - val_accuracy: 0.9521\n",
            "Epoch 47/100\n",
            "12/12 [==============================] - 0s 6ms/step - loss: 0.1114 - accuracy: 0.9685 - val_loss: 0.1527 - val_accuracy: 0.9521\n",
            "Epoch 48/100\n",
            "12/12 [==============================] - 0s 6ms/step - loss: 0.1101 - accuracy: 0.9685 - val_loss: 0.1511 - val_accuracy: 0.9521\n",
            "Epoch 49/100\n",
            "12/12 [==============================] - 0s 6ms/step - loss: 0.1085 - accuracy: 0.9711 - val_loss: 0.1497 - val_accuracy: 0.9521\n",
            "Epoch 50/100\n",
            "12/12 [==============================] - 0s 5ms/step - loss: 0.1071 - accuracy: 0.9711 - val_loss: 0.1484 - val_accuracy: 0.9521\n",
            "Epoch 51/100\n",
            "12/12 [==============================] - 0s 7ms/step - loss: 0.1057 - accuracy: 0.9711 - val_loss: 0.1472 - val_accuracy: 0.9521\n",
            "Epoch 52/100\n",
            "12/12 [==============================] - 0s 6ms/step - loss: 0.1046 - accuracy: 0.9711 - val_loss: 0.1461 - val_accuracy: 0.9521\n",
            "Epoch 53/100\n",
            "12/12 [==============================] - 0s 8ms/step - loss: 0.1033 - accuracy: 0.9711 - val_loss: 0.1448 - val_accuracy: 0.9521\n",
            "Epoch 54/100\n",
            "12/12 [==============================] - 0s 6ms/step - loss: 0.1020 - accuracy: 0.9711 - val_loss: 0.1437 - val_accuracy: 0.9521\n",
            "Epoch 55/100\n",
            "12/12 [==============================] - 0s 6ms/step - loss: 0.1009 - accuracy: 0.9711 - val_loss: 0.1426 - val_accuracy: 0.9521\n",
            "Epoch 56/100\n",
            "12/12 [==============================] - 0s 7ms/step - loss: 0.0998 - accuracy: 0.9738 - val_loss: 0.1416 - val_accuracy: 0.9521\n",
            "Epoch 57/100\n",
            "12/12 [==============================] - 0s 6ms/step - loss: 0.0987 - accuracy: 0.9738 - val_loss: 0.1405 - val_accuracy: 0.9521\n",
            "Epoch 58/100\n",
            "12/12 [==============================] - 0s 6ms/step - loss: 0.0977 - accuracy: 0.9738 - val_loss: 0.1396 - val_accuracy: 0.9521\n",
            "Epoch 59/100\n",
            "12/12 [==============================] - 0s 7ms/step - loss: 0.0967 - accuracy: 0.9738 - val_loss: 0.1387 - val_accuracy: 0.9521\n",
            "Epoch 60/100\n",
            "12/12 [==============================] - 0s 5ms/step - loss: 0.0957 - accuracy: 0.9738 - val_loss: 0.1378 - val_accuracy: 0.9574\n",
            "Epoch 61/100\n",
            "12/12 [==============================] - 0s 5ms/step - loss: 0.0947 - accuracy: 0.9738 - val_loss: 0.1369 - val_accuracy: 0.9628\n",
            "Epoch 62/100\n",
            "12/12 [==============================] - 0s 4ms/step - loss: 0.0939 - accuracy: 0.9738 - val_loss: 0.1360 - val_accuracy: 0.9628\n",
            "Epoch 63/100\n",
            "12/12 [==============================] - 0s 4ms/step - loss: 0.0930 - accuracy: 0.9738 - val_loss: 0.1352 - val_accuracy: 0.9628\n",
            "Epoch 64/100\n",
            "12/12 [==============================] - 0s 7ms/step - loss: 0.0921 - accuracy: 0.9738 - val_loss: 0.1344 - val_accuracy: 0.9628\n",
            "Epoch 65/100\n",
            "12/12 [==============================] - 0s 4ms/step - loss: 0.0913 - accuracy: 0.9738 - val_loss: 0.1336 - val_accuracy: 0.9628\n",
            "Epoch 66/100\n",
            "12/12 [==============================] - 0s 5ms/step - loss: 0.0905 - accuracy: 0.9738 - val_loss: 0.1329 - val_accuracy: 0.9628\n",
            "Epoch 67/100\n",
            "12/12 [==============================] - 0s 5ms/step - loss: 0.0897 - accuracy: 0.9738 - val_loss: 0.1321 - val_accuracy: 0.9628\n",
            "Epoch 68/100\n",
            "12/12 [==============================] - 0s 5ms/step - loss: 0.0889 - accuracy: 0.9738 - val_loss: 0.1314 - val_accuracy: 0.9628\n",
            "Epoch 69/100\n",
            "12/12 [==============================] - 0s 4ms/step - loss: 0.0882 - accuracy: 0.9738 - val_loss: 0.1307 - val_accuracy: 0.9628\n",
            "Epoch 70/100\n",
            "12/12 [==============================] - 0s 5ms/step - loss: 0.0875 - accuracy: 0.9738 - val_loss: 0.1301 - val_accuracy: 0.9628\n",
            "Epoch 71/100\n",
            "12/12 [==============================] - 0s 4ms/step - loss: 0.0868 - accuracy: 0.9738 - val_loss: 0.1293 - val_accuracy: 0.9628\n",
            "Epoch 72/100\n",
            "12/12 [==============================] - 0s 4ms/step - loss: 0.0861 - accuracy: 0.9738 - val_loss: 0.1287 - val_accuracy: 0.9628\n",
            "Epoch 73/100\n",
            "12/12 [==============================] - 0s 4ms/step - loss: 0.0854 - accuracy: 0.9738 - val_loss: 0.1281 - val_accuracy: 0.9628\n",
            "Epoch 74/100\n",
            "12/12 [==============================] - 0s 5ms/step - loss: 0.0847 - accuracy: 0.9738 - val_loss: 0.1276 - val_accuracy: 0.9628\n",
            "Epoch 75/100\n",
            "12/12 [==============================] - 0s 6ms/step - loss: 0.0841 - accuracy: 0.9738 - val_loss: 0.1270 - val_accuracy: 0.9628\n",
            "Epoch 76/100\n",
            "12/12 [==============================] - 0s 4ms/step - loss: 0.0835 - accuracy: 0.9738 - val_loss: 0.1264 - val_accuracy: 0.9628\n",
            "Epoch 77/100\n",
            "12/12 [==============================] - 0s 4ms/step - loss: 0.0829 - accuracy: 0.9738 - val_loss: 0.1258 - val_accuracy: 0.9628\n",
            "Epoch 78/100\n",
            "12/12 [==============================] - 0s 4ms/step - loss: 0.0823 - accuracy: 0.9738 - val_loss: 0.1253 - val_accuracy: 0.9628\n",
            "Epoch 79/100\n",
            "12/12 [==============================] - 0s 4ms/step - loss: 0.0818 - accuracy: 0.9738 - val_loss: 0.1247 - val_accuracy: 0.9628\n",
            "Epoch 80/100\n",
            "12/12 [==============================] - 0s 4ms/step - loss: 0.0812 - accuracy: 0.9738 - val_loss: 0.1242 - val_accuracy: 0.9628\n",
            "Epoch 81/100\n",
            "12/12 [==============================] - 0s 5ms/step - loss: 0.0806 - accuracy: 0.9738 - val_loss: 0.1236 - val_accuracy: 0.9628\n",
            "Epoch 82/100\n",
            "12/12 [==============================] - 0s 4ms/step - loss: 0.0801 - accuracy: 0.9764 - val_loss: 0.1232 - val_accuracy: 0.9628\n",
            "Epoch 83/100\n",
            "12/12 [==============================] - 0s 5ms/step - loss: 0.0795 - accuracy: 0.9764 - val_loss: 0.1228 - val_accuracy: 0.9628\n",
            "Epoch 84/100\n",
            "12/12 [==============================] - 0s 4ms/step - loss: 0.0791 - accuracy: 0.9764 - val_loss: 0.1223 - val_accuracy: 0.9628\n",
            "Epoch 85/100\n",
            "12/12 [==============================] - 0s 4ms/step - loss: 0.0786 - accuracy: 0.9764 - val_loss: 0.1218 - val_accuracy: 0.9628\n",
            "Epoch 86/100\n",
            "12/12 [==============================] - 0s 4ms/step - loss: 0.0780 - accuracy: 0.9764 - val_loss: 0.1213 - val_accuracy: 0.9628\n",
            "Epoch 87/100\n",
            "12/12 [==============================] - 0s 5ms/step - loss: 0.0776 - accuracy: 0.9764 - val_loss: 0.1209 - val_accuracy: 0.9628\n",
            "Epoch 88/100\n",
            "12/12 [==============================] - 0s 4ms/step - loss: 0.0771 - accuracy: 0.9764 - val_loss: 0.1206 - val_accuracy: 0.9628\n",
            "Epoch 89/100\n",
            "12/12 [==============================] - 0s 4ms/step - loss: 0.0766 - accuracy: 0.9764 - val_loss: 0.1201 - val_accuracy: 0.9628\n",
            "Epoch 90/100\n",
            "12/12 [==============================] - 0s 4ms/step - loss: 0.0762 - accuracy: 0.9764 - val_loss: 0.1197 - val_accuracy: 0.9628\n",
            "Epoch 91/100\n",
            "12/12 [==============================] - 0s 5ms/step - loss: 0.0758 - accuracy: 0.9764 - val_loss: 0.1193 - val_accuracy: 0.9628\n",
            "Epoch 92/100\n",
            "12/12 [==============================] - 0s 4ms/step - loss: 0.0753 - accuracy: 0.9764 - val_loss: 0.1188 - val_accuracy: 0.9628\n",
            "Epoch 93/100\n",
            "12/12 [==============================] - 0s 4ms/step - loss: 0.0749 - accuracy: 0.9764 - val_loss: 0.1185 - val_accuracy: 0.9681\n",
            "Epoch 94/100\n",
            "12/12 [==============================] - 0s 4ms/step - loss: 0.0745 - accuracy: 0.9764 - val_loss: 0.1181 - val_accuracy: 0.9681\n",
            "Epoch 95/100\n",
            "12/12 [==============================] - 0s 4ms/step - loss: 0.0741 - accuracy: 0.9764 - val_loss: 0.1177 - val_accuracy: 0.9681\n",
            "Epoch 96/100\n",
            "12/12 [==============================] - 0s 4ms/step - loss: 0.0737 - accuracy: 0.9764 - val_loss: 0.1174 - val_accuracy: 0.9681\n",
            "Epoch 97/100\n",
            "12/12 [==============================] - 0s 4ms/step - loss: 0.0733 - accuracy: 0.9764 - val_loss: 0.1171 - val_accuracy: 0.9681\n",
            "Epoch 98/100\n",
            "12/12 [==============================] - 0s 6ms/step - loss: 0.0729 - accuracy: 0.9764 - val_loss: 0.1167 - val_accuracy: 0.9681\n",
            "Epoch 99/100\n",
            "12/12 [==============================] - 0s 4ms/step - loss: 0.0725 - accuracy: 0.9764 - val_loss: 0.1164 - val_accuracy: 0.9681\n",
            "Epoch 100/100\n",
            "12/12 [==============================] - 0s 4ms/step - loss: 0.0722 - accuracy: 0.9764 - val_loss: 0.1161 - val_accuracy: 0.9681\n"
          ]
        }
      ]
    },
    {
      "cell_type": "code",
      "source": [
        "print(\"train score: \", model.evaluate(X_train, y_train))"
      ],
      "metadata": {
        "colab": {
          "base_uri": "https://localhost:8080/"
        },
        "id": "RTMiILIhmN_N",
        "outputId": "dfacd8dd-ef62-4671-dfe3-6de60f76cc65"
      },
      "execution_count": null,
      "outputs": [
        {
          "output_type": "stream",
          "name": "stdout",
          "text": [
            "12/12 [==============================] - 0s 2ms/step - loss: 0.0719 - accuracy: 0.9764\n",
            "train score:  [0.07189910858869553, 0.9763779640197754]\n"
          ]
        }
      ]
    },
    {
      "cell_type": "code",
      "source": [
        "print(\"Test Score: \", model.evaluate(X_test, y_test))"
      ],
      "metadata": {
        "colab": {
          "base_uri": "https://localhost:8080/"
        },
        "id": "yBmjSS9YnIBe",
        "outputId": "bfab8d27-6e67-4288-a182-b85b0dd70f60"
      },
      "execution_count": null,
      "outputs": [
        {
          "output_type": "stream",
          "name": "stdout",
          "text": [
            "6/6 [==============================] - 0s 2ms/step - loss: 0.1161 - accuracy: 0.9681\n",
            "Test Score:  [0.11607532948255539, 0.9680851101875305]\n"
          ]
        }
      ]
    },
    {
      "cell_type": "code",
      "source": [
        "plt.plot(trained_model.history['loss'], label='loss')\n",
        "plt.plot(trained_model.history['val_loss'], label='val_loss')\n",
        "plt.legend()"
      ],
      "metadata": {
        "colab": {
          "base_uri": "https://localhost:8080/",
          "height": 286
        },
        "id": "DSh0PwsKnJtG",
        "outputId": "00d35367-a052-4d08-a0df-76ad8e5aa5e1"
      },
      "execution_count": null,
      "outputs": [
        {
          "output_type": "execute_result",
          "data": {
            "text/plain": [
              "<matplotlib.legend.Legend at 0x7f84af3987d0>"
            ]
          },
          "metadata": {},
          "execution_count": 18
        },
        {
          "output_type": "display_data",
          "data": {
            "text/plain": [
              "<Figure size 432x288 with 1 Axes>"
            ],
            "image/png": "[encoded data removed]"
          },
          "metadata": {}
        }
      ]
    },
    {
      "cell_type": "code",
      "source": [
        "P = model.predict(X_test)\n",
        "print(P)"
      ],
      "metadata": {
        "colab": {
          "base_uri": "https://localhost:8080/"
        },
        "id": "T0II5XDqn2zV",
        "outputId": "a47f0748-eac2-4d68-81cd-f07624eb6fb4"
      },
      "execution_count": null,
      "outputs": [
        {
          "output_type": "stream",
          "name": "stdout",
          "text": [
            "6/6 [==============================] - 0s 2ms/step\n",
            "[[8.0850190e-01]\n",
            " [9.9905330e-01]\n",
            " [9.9851745e-01]\n",
            " [9.9957073e-01]\n",
            " [9.9941343e-01]\n",
            " [9.8635210e-05]\n",
            " [9.6375346e-01]\n",
            " [9.9591613e-01]\n",
            " [7.8684384e-01]\n",
            " [9.9898934e-01]\n",
            " [5.2863255e-04]\n",
            " [9.5796674e-01]\n",
            " [1.1579288e-08]\n",
            " [9.9832004e-01]\n",
            " [9.9161506e-01]\n",
            " [9.8951417e-01]\n",
            " [3.7475183e-04]\n",
            " [1.6611598e-06]\n",
            " [9.4608659e-01]\n",
            " [9.6277249e-01]\n",
            " [9.6125138e-01]\n",
            " [9.9768901e-01]\n",
            " [8.6164570e-01]\n",
            " [9.9980599e-01]\n",
            " [9.8882639e-01]\n",
            " [8.8588405e-01]\n",
            " [1.8092522e-02]\n",
            " [8.8571527e-05]\n",
            " [9.9771029e-01]\n",
            " [9.9909204e-01]\n",
            " [9.9942315e-01]\n",
            " [3.0966790e-04]\n",
            " [9.8363960e-01]\n",
            " [9.9952161e-01]\n",
            " [5.5375713e-01]\n",
            " [6.4036760e-07]\n",
            " [5.3650388e-07]\n",
            " [9.9989021e-01]\n",
            " [2.9680964e-01]\n",
            " [1.9057028e-01]\n",
            " [9.9413717e-01]\n",
            " [9.9675798e-01]\n",
            " [9.9316573e-01]\n",
            " [6.1103242e-06]\n",
            " [8.2211761e-04]\n",
            " [9.6678555e-01]\n",
            " [3.6102886e-06]\n",
            " [9.6142691e-01]\n",
            " [9.9968380e-01]\n",
            " [9.8887706e-01]\n",
            " [9.9987757e-01]\n",
            " [9.8631829e-01]\n",
            " [9.9933439e-01]\n",
            " [9.9381286e-01]\n",
            " [7.0278800e-01]\n",
            " [8.0282170e-01]\n",
            " [9.9382490e-01]\n",
            " [9.9676150e-01]\n",
            " [1.0327717e-03]\n",
            " [3.4945670e-03]\n",
            " [9.8310864e-01]\n",
            " [9.5493132e-01]\n",
            " [2.7136134e-12]\n",
            " [6.2525674e-04]\n",
            " [2.8526399e-01]\n",
            " [9.9813724e-01]\n",
            " [9.9859750e-01]\n",
            " [7.6483004e-04]\n",
            " [9.9903339e-01]\n",
            " [9.4405776e-01]\n",
            " [9.9313587e-01]\n",
            " [9.9347830e-01]\n",
            " [9.9974334e-01]\n",
            " [9.9757683e-01]\n",
            " [9.8975468e-01]\n",
            " [9.8223698e-01]\n",
            " [9.9898756e-01]\n",
            " [9.9832773e-01]\n",
            " [9.9943846e-01]\n",
            " [9.9333310e-01]\n",
            " [2.3932897e-02]\n",
            " [3.8714856e-01]\n",
            " [5.3356713e-01]\n",
            " [6.0244334e-01]\n",
            " [8.2114720e-01]\n",
            " [3.3960886e-02]\n",
            " [9.2914414e-01]\n",
            " [9.9738133e-01]\n",
            " [6.1966175e-06]\n",
            " [8.5876838e-16]\n",
            " [9.8943466e-01]\n",
            " [7.8448492e-01]\n",
            " [9.9925077e-01]\n",
            " [9.9674791e-01]\n",
            " [7.4358493e-01]\n",
            " [9.9759567e-01]\n",
            " [4.8976195e-01]\n",
            " [6.0836446e-01]\n",
            " [9.2741758e-01]\n",
            " [9.2879136e-04]\n",
            " [3.1533828e-03]\n",
            " [8.6881471e-01]\n",
            " [9.9978125e-01]\n",
            " [9.9054527e-01]\n",
            " [6.1250091e-02]\n",
            " [9.9998575e-01]\n",
            " [4.9506786e-04]\n",
            " [9.9401039e-01]\n",
            " [8.6844939e-01]\n",
            " [9.9734312e-01]\n",
            " [7.7117419e-01]\n",
            " [9.9327439e-01]\n",
            " [9.2712623e-01]\n",
            " [5.5552940e-05]\n",
            " [7.0198286e-05]\n",
            " [3.5526391e-02]\n",
            " [9.8909866e-03]\n",
            " [9.9751198e-01]\n",
            " [9.4342619e-01]\n",
            " [2.4701550e-09]\n",
            " [9.8069805e-01]\n",
            " [9.7597992e-01]\n",
            " [9.9932539e-01]\n",
            " [7.5270349e-01]\n",
            " [7.3283094e-01]\n",
            " [7.0267483e-03]\n",
            " [9.9811590e-01]\n",
            " [1.0247941e-04]\n",
            " [9.9904889e-01]\n",
            " [7.0134945e-02]\n",
            " [9.9898016e-01]\n",
            " [1.5721872e-02]\n",
            " [5.1331538e-01]\n",
            " [1.7300701e-04]\n",
            " [9.8472941e-01]\n",
            " [9.2208284e-01]\n",
            " [3.5364792e-02]\n",
            " [2.9013613e-01]\n",
            " [8.9704686e-01]\n",
            " [9.9821955e-01]\n",
            " [1.7515968e-05]\n",
            " [9.8150629e-01]\n",
            " [1.5496051e-01]\n",
            " [9.9902886e-01]\n",
            " [1.9794859e-01]\n",
            " [1.2829582e-02]\n",
            " [7.6388061e-01]\n",
            " [9.9632674e-01]\n",
            " [9.7295529e-01]\n",
            " [9.9027127e-01]\n",
            " [4.3712585e-04]\n",
            " [8.7430394e-01]\n",
            " [6.1847585e-01]\n",
            " [9.9448180e-01]\n",
            " [8.5724044e-01]\n",
            " [9.7067261e-01]\n",
            " [9.9850595e-01]\n",
            " [9.8180658e-01]\n",
            " [6.4361644e-01]\n",
            " [9.5063597e-01]\n",
            " [1.3013543e-01]\n",
            " [9.7163010e-01]\n",
            " [2.3045645e-06]\n",
            " [9.4972461e-01]\n",
            " [2.8958062e-02]\n",
            " [9.9970114e-01]\n",
            " [2.1338524e-04]\n",
            " [6.9370326e-05]\n",
            " [1.9228277e-03]\n",
            " [4.9009648e-01]\n",
            " [9.5635724e-01]\n",
            " [6.7582083e-01]\n",
            " [2.4847139e-04]\n",
            " [9.1080892e-07]\n",
            " [7.6532938e-02]\n",
            " [9.8527086e-01]\n",
            " [9.9947488e-01]\n",
            " [9.9949932e-01]\n",
            " [1.3945962e-03]\n",
            " [6.5075379e-05]\n",
            " [4.3577041e-02]\n",
            " [3.3952069e-04]\n",
            " [9.9429244e-01]\n",
            " [9.9628311e-01]\n",
            " [9.5774400e-01]\n",
            " [9.8007900e-01]\n",
            " [9.9218422e-01]\n",
            " [9.9572712e-01]]\n"
          ]
        }
      ]
    },
    {
      "cell_type": "code",
      "source": [
        "P = np.round(P).flatten()\n",
        "print(P)"
      ],
      "metadata": {
        "colab": {
          "base_uri": "https://localhost:8080/"
        },
        "id": "q-TUVX2tpRF7",
        "outputId": "0f5ffb6c-dd94-44f1-aa3a-e71f6fb6babc"
      },
      "execution_count": null,
      "outputs": [
        {
          "output_type": "stream",
          "name": "stdout",
          "text": [
            "[1. 1. 1. 1. 1. 0. 1. 1. 1. 1. 0. 1. 0. 1. 1. 1. 0. 0. 1. 1. 1. 1. 1. 1.\n",
            " 1. 1. 0. 0. 1. 1. 1. 0. 1. 1. 1. 0. 0. 1. 0. 0. 1. 1. 1. 0. 0. 1. 0. 1.\n",
            " 1. 1. 1. 1. 1. 1. 1. 1. 1. 1. 0. 0. 1. 1. 0. 0. 0. 1. 1. 0. 1. 1. 1. 1.\n",
            " 1. 1. 1. 1. 1. 1. 1. 1. 0. 0. 1. 1. 1. 0. 1. 1. 0. 0. 1. 1. 1. 1. 1. 1.\n",
            " 0. 1. 1. 0. 0. 1. 1. 1. 0. 1. 0. 1. 1. 1. 1. 1. 1. 0. 0. 0. 0. 1. 1. 0.\n",
            " 1. 1. 1. 1. 1. 0. 1. 0. 1. 0. 1. 0. 1. 0. 1. 1. 0. 0. 1. 1. 0. 1. 0. 1.\n",
            " 0. 0. 1. 1. 1. 1. 0. 1. 1. 1. 1. 1. 1. 1. 1. 1. 0. 1. 0. 1. 0. 1. 0. 0.\n",
            " 0. 0. 1. 1. 0. 0. 0. 1. 1. 1. 0. 0. 0. 0. 1. 1. 1. 1. 1. 1.]\n"
          ]
        }
      ]
    },
    {
      "cell_type": "code",
      "source": [
        "model.save('classifier.h5')"
      ],
      "metadata": {
        "id": "MzJsmgEape1E"
      },
      "execution_count": null,
      "outputs": []
    },
    {
      "cell_type": "code",
      "source": [
        "X_test"
      ],
      "metadata": {
        "colab": {
          "base_uri": "https://localhost:8080/"
        },
        "id": "tDiyNSnbpxe8",
        "outputId": "8a70eedf-57c6-4cbd-ad0a-4a1817e41731"
      },
      "execution_count": null,
      "outputs": [
        {
          "output_type": "execute_result",
          "data": {
            "text/plain": [
              "array([[-0.203046  , -0.09519747, -0.18425238, ...,  0.45235109,\n",
              "        -0.39090139, -0.38662839],\n",
              "       [-1.10135192, -0.88483195, -1.10121512, ..., -1.09930664,\n",
              "        -0.47855276, -0.05183813],\n",
              "       [-1.08672153, -0.15965743, -1.09096972, ..., -0.78114435,\n",
              "        -1.1694518 , -0.29704472],\n",
              "       ...,\n",
              "       [-0.46346693, -0.49577006, -0.50356715, ..., -0.26890924,\n",
              "         0.64716583, -0.59106292],\n",
              "       [-0.08892896, -0.61778356, -0.14711283, ..., -0.82831376,\n",
              "        -0.36855888, -0.37973734],\n",
              "       [-0.66536631, -1.93230626, -0.6948145 , ..., -0.72750071,\n",
              "        -0.74494418, -0.63011222]])"
            ]
          },
          "metadata": {},
          "execution_count": 23
        }
      ]
    },
    {
      "cell_type": "code",
      "source": [
        "model.summary()"
      ],
      "metadata": {
        "colab": {
          "base_uri": "https://localhost:8080/"
        },
        "id": "4dDOmnYnqV-m",
        "outputId": "fcfbb1cb-4faf-4fd8-d6aa-51feec2c6a5a"
      },
      "execution_count": null,
      "outputs": [
        {
          "output_type": "stream",
          "name": "stdout",
          "text": [
            "Model: \"sequential\"\n",
            "_________________________________________________________________\n",
            " Layer (type)                Output Shape              Param #   \n",
            "=================================================================\n",
            " dense (Dense)               (None, 1)                 31        \n",
            "                                                                 \n",
            "=================================================================\n",
            "Total params: 31\n",
            "Trainable params: 31\n",
            "Non-trainable params: 0\n",
            "_________________________________________________________________\n"
          ]
        }
      ]
    },
    {
      "cell_type": "code",
      "source": [
        "from keras.utils import plot_model"
      ],
      "metadata": {
        "id": "G7mF90aysug8"
      },
      "execution_count": null,
      "outputs": []
    },
    {
      "cell_type": "code",
      "source": [
        "plot_model(model, show_shapes=True)"
      ],
      "metadata": {
        "colab": {
          "base_uri": "https://localhost:8080/",
          "height": 201
        },
        "id": "1ZFC-7Rjs76k",
        "outputId": "6b5dc057-1db8-4d27-b6de-6bb27da8b41b"
      },
      "execution_count": null,
      "outputs": [
        {
          "output_type": "execute_result",
          "data": {
            "image/png": "[encoded data removed]",
            "text/plain": [
              "<IPython.core.display.Image object>"
            ]
          },
          "metadata": {},
          "execution_count": 27
        }
      ]
    },
    {
      "cell_type": "code",
      "source": [],
      "metadata": {
        "id": "uBNRGfIrtBgr"
      },
      "execution_count": null,
      "outputs": []
    }
  ]
}